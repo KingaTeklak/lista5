{
  "nbformat": 4,
  "nbformat_minor": 0,
  "metadata": {
    "colab": {
      "name": "lista6.ipynb",
      "provenance": [],
      "authorship_tag": "ABX9TyN6ifosheT4jWQtV1s9jHbS",
      "include_colab_link": true
    },
    "kernelspec": {
      "name": "python3",
      "display_name": "Python 3"
    }
  },
  "cells": [
    {
      "cell_type": "markdown",
      "metadata": {
        "id": "view-in-github",
        "colab_type": "text"
      },
      "source": [
        "<a href=\"https://colab.research.google.com/github/KingaTeklak/lista5/blob/main/lista6.ipynb\" target=\"_parent\"><img src=\"https://colab.research.google.com/assets/colab-badge.svg\" alt=\"Open In Colab\"/></a>"
      ]
    },
    {
      "cell_type": "markdown",
      "metadata": {
        "id": "A1JXIEVSnx-E"
      },
      "source": [
        ""
      ]
    },
    {
      "cell_type": "code",
      "metadata": {
        "id": "OJKDp5ZLi6L6"
      },
      "source": [
        "import math\r\n",
        "import matplotlib\r\n",
        "import random\r\n",
        "import matplotlib.pyplot as plt\r\n",
        "import matplotlib.patches as patches\r\n"
      ],
      "execution_count": 250,
      "outputs": []
    },
    {
      "cell_type": "markdown",
      "metadata": {
        "id": "nbmN3a67hCow"
      },
      "source": [
        "# Zadanie 1\r\n",
        "Wymyśl sposób reprezentowania takich dysków przy pomocy jednego z\r\n",
        "wbudowanych typów danych w Pythonie"
      ]
    },
    {
      "cell_type": "code",
      "metadata": {
        "id": "AIrUbJq5Gt2F"
      },
      "source": [
        "n=50"
      ],
      "execution_count": 251,
      "outputs": []
    },
    {
      "cell_type": "markdown",
      "metadata": {
        "id": "-LrmM4lgMO4_"
      },
      "source": [
        "co z dyskami, których środek jest w \"polu\" ale reszta nie, czy trzeba to precyzować dla dowolnego promienia, czy tylko dla r=0,5, czy wcale?"
      ]
    },
    {
      "cell_type": "code",
      "metadata": {
        "id": "LK7zPe-BhHIw"
      },
      "source": [
        "def dysk(n):\r\n",
        "  X = [round(random.uniform(-15, 15.1),1) for i in range(n)]\r\n",
        "  X = sorted(X)\r\n",
        "  Y = [round(random.uniform(-15, 15.1),1) for i in range(n)]\r\n",
        "  promien = [round(random.uniform(0.5, 0.51),1) for i in range(n)]\r\n",
        "  return X, Y, promien\r\n"
      ],
      "execution_count": 252,
      "outputs": []
    },
    {
      "cell_type": "markdown",
      "metadata": {
        "id": "rTDJMidysCWT"
      },
      "source": [
        "Wygenerowanie dyski:"
      ]
    },
    {
      "cell_type": "code",
      "metadata": {
        "colab": {
          "base_uri": "https://localhost:8080/"
        },
        "id": "Yjd7BL8msNu5",
        "outputId": "b9146723-8e69-40db-b359-f4c5d163e318"
      },
      "source": [
        "dyski = dysk(n)\r\n",
        "print(dyski)"
      ],
      "execution_count": 253,
      "outputs": [
        {
          "output_type": "stream",
          "text": [
            "([-14.7, -14.7, -13.7, -12.8, -12.0, -11.7, -9.5, -9.3, -9.3, -9.0, -7.8, -6.4, -6.4, -5.8, -5.5, -4.9, -4.8, -3.4, -3.2, -3.1, -2.0, -1.9, -0.5, -0.5, 0.1, 0.6, 1.7, 2.0, 2.5, 3.4, 3.5, 5.1, 5.9, 6.1, 6.6, 6.7, 7.2, 7.6, 7.6, 7.9, 7.9, 8.1, 8.1, 9.0, 10.1, 10.3, 10.7, 12.7, 14.1, 14.8], [13.7, 14.1, -6.7, 5.8, 14.3, 7.9, 13.0, -14.4, -12.4, -5.9, -7.2, 1.5, -6.6, -12.5, 5.2, 11.8, -14.1, 12.4, 13.7, 5.3, 14.6, -4.1, -13.5, 6.3, -7.4, -5.8, 1.8, -4.2, 11.6, 14.4, 5.1, -2.6, 6.1, -5.6, 6.2, 8.6, -9.4, -7.9, -14.4, -6.2, 4.2, -14.0, -13.0, 11.7, 3.4, 10.4, 2.6, 8.7, 5.0, 13.2], [0.5, 0.5, 0.5, 0.5, 0.5, 0.5, 0.5, 0.5, 0.5, 0.5, 0.5, 0.5, 0.5, 0.5, 0.5, 0.5, 0.5, 0.5, 0.5, 0.5, 0.5, 0.5, 0.5, 0.5, 0.5, 0.5, 0.5, 0.5, 0.5, 0.5, 0.5, 0.5, 0.5, 0.5, 0.5, 0.5, 0.5, 0.5, 0.5, 0.5, 0.5, 0.5, 0.5, 0.5, 0.5, 0.5, 0.5, 0.5, 0.5, 0.5])\n"
          ],
          "name": "stdout"
        }
      ]
    },
    {
      "cell_type": "code",
      "metadata": {
        "colab": {
          "base_uri": "https://localhost:8080/",
          "height": 306
        },
        "id": "9kimTllx0rUw",
        "outputId": "5a256d2d-6077-4aca-8363-7674100c496f"
      },
      "source": [
        "\r\n",
        "fig = plt.figure() \r\n",
        "ax = fig.add_subplot(111) \r\n",
        "for i in range(n):\r\n",
        "  crcle = matplotlib.patches.Circle((dyski[0][i],dyski[1][i]),dyski[2][i], alpha = 0.3,edgecolor=\"black\")\r\n",
        "  ax.add_patch(crcle)\r\n",
        "plt.xlim(-15,15)\r\n",
        "plt.ylim(-15,15)\r\n",
        "plt.grid()\r\n",
        "#plt.figure(figsize=(3,3)) \r\n",
        "\r\n",
        "plt.show()\r\n",
        "print(dyski[1])"
      ],
      "execution_count": null,
      "outputs": [
        {
          "output_type": "display_data",
          "data": {
            "image/png": "[encoded data removed]",
            "text/plain": [
              "<Figure size 432x288 with 1 Axes>"
            ]
          },
          "metadata": {
            "tags": [],
            "needs_background": "light"
          }
        },
        {
          "output_type": "stream",
          "text": [
            "[-7.9, 9.8, -5.0, 3.6, 9.5, 11.3, 0.0, -13.1, 0.0, -1.7, 12.1, 15.0, 9.5, -7.7, -9.6, -9.1, 5.7, -5.3, 6.0, -2.2, -11.4, 9.9, 11.5, -5.7, 2.0, 14.2, -12.3, 9.6, -8.5, 3.0, 12.4, -10.9, -4.1, 8.6, 13.3, 8.4, 11.2, 7.0, -4.5, -9.2, 5.7, -12.4, -10.8, 1.8, 0.3, 11.7, 4.3, 1.9, -10.5, 7.1]\n"
          ],
          "name": "stdout"
        }
      ]
    },
    {
      "cell_type": "markdown",
      "metadata": {
        "id": "m4wBTZa5ilNH"
      },
      "source": [
        "# Zadanie 2\r\n",
        "Napisz funkcję, która będzie wykrywać kolizję między dwoma dyskami.\r\n",
        "Funkcja ta powinna zwracać wartość True, jeżeli dyski „zachodzą” na\r\n",
        "siebie"
      ]
    },
    {
      "cell_type": "code",
      "metadata": {
        "colab": {
          "base_uri": "https://localhost:8080/"
        },
        "id": "NXBcvDgnikyl",
        "outputId": "d6d730a4-22cd-4b2a-a48e-ca54faa18acc"
      },
      "source": [
        "def colision(nr_pierwszego_dysku,nr_drugiego_dysku):\r\n",
        "  print(dyski[1])\r\n",
        "  x = dyski[0]\r\n",
        "  y = dyski[1]\r\n",
        "  \r\n",
        "  r = dyski[2]\r\n",
        "  if math.sqrt(math.pow((x[nr_pierwszego_dysku] - x[nr_drugiego_dysku]),2) + math.pow((y[nr_pierwszego_dysku]-y[nr_drugiego_dysku]),2)) >= (r[nr_pierwszego_dysku] + r[nr_drugiego_dysku]):\r\n",
        "    return False\r\n",
        "  return True\r\n",
        "colision(14,13)\r\n"
      ],
      "execution_count": 254,
      "outputs": [
        {
          "output_type": "stream",
          "text": [
            "[13.7, 14.1, -6.7, 5.8, 14.3, 7.9, 13.0, -14.4, -12.4, -5.9, -7.2, 1.5, -6.6, -12.5, 5.2, 11.8, -14.1, 12.4, 13.7, 5.3, 14.6, -4.1, -13.5, 6.3, -7.4, -5.8, 1.8, -4.2, 11.6, 14.4, 5.1, -2.6, 6.1, -5.6, 6.2, 8.6, -9.4, -7.9, -14.4, -6.2, 4.2, -14.0, -13.0, 11.7, 3.4, 10.4, 2.6, 8.7, 5.0, 13.2]\n"
          ],
          "name": "stdout"
        },
        {
          "output_type": "execute_result",
          "data": {
            "text/plain": [
              "False"
            ]
          },
          "metadata": {
            "tags": []
          },
          "execution_count": 254
        }
      ]
    },
    {
      "cell_type": "markdown",
      "metadata": {
        "id": "-JZmWCzgNBfy"
      },
      "source": [
        "# Zadanie 3\r\n",
        " Napisz funkcję, która przesunie dysk na płaszczyźnie o wektor podany\r\n",
        "jako drugi argument."
      ]
    },
    {
      "cell_type": "code",
      "metadata": {
        "id": "pRP8eqHCNIiN",
        "colab": {
          "base_uri": "https://localhost:8080/"
        },
        "outputId": "db068948-d43d-4115-b36e-06ddf6684c86"
      },
      "source": [
        "def move(nr_dysku,wektor):\r\n",
        "  \r\n",
        "  return dyski[1][nr_dysku] + wektor\r\n",
        "  \r\n",
        "move(1,1)"
      ],
      "execution_count": 259,
      "outputs": [
        {
          "output_type": "execute_result",
          "data": {
            "text/plain": [
              "15.1"
            ]
          },
          "metadata": {
            "tags": []
          },
          "execution_count": 259
        }
      ]
    },
    {
      "cell_type": "markdown",
      "metadata": {
        "id": "3ihd6iIBqYqs"
      },
      "source": [
        "Szukam odpowiedniego wektora"
      ]
    },
    {
      "cell_type": "code",
      "metadata": {
        "colab": {
          "base_uri": "https://localhost:8080/"
        },
        "id": "onMY0sbtqfBE",
        "outputId": "3401089b-7436-4cc9-db7f-c4fdeaadc47d"
      },
      "source": [
        "def wektor_y(y):\r\n",
        "  \r\n",
        "  if y <= 14.5:\r\n",
        "    y += 0.5\r\n",
        "  else:\r\n",
        "    y = -15\r\n",
        "  return y\r\n",
        "wektor_y(dyski[1][0])\r\n"
      ],
      "execution_count": 260,
      "outputs": [
        {
          "output_type": "execute_result",
          "data": {
            "text/plain": [
              "14.2"
            ]
          },
          "metadata": {
            "tags": []
          },
          "execution_count": 260
        }
      ]
    },
    {
      "cell_type": "markdown",
      "metadata": {
        "id": "b4Rz9An_zyuP"
      },
      "source": [
        "# Zadanie 5\r\n",
        " Napisz program, który na płaszczyźnie −15 ¬ x, y ¬ 15:\r\n",
        "• rozmieści 100 dysków o promieniu r = 0.5 w losowych położeniach,\r\n",
        "• wykryje kolizje.\r\n",
        "• rozsunie dyski tak, żeby co najwyżej stykały się ze sobą.\r\n",
        "Program powinien zakończyć działanie po usunięciu ostatniej z kolizji."
      ]
    },
    {
      "cell_type": "code",
      "metadata": {
        "colab": {
          "base_uri": "https://localhost:8080/"
        },
        "id": "8ta41sftz7Kk",
        "outputId": "d304e484-945f-44ba-8189-bd03ed3c98e8"
      },
      "source": [
        "def rozsuwanie_dyskow(dyski):\r\n",
        "  nowe_rozmieszczenie = dyski[1]\r\n",
        "  for numer_dysku in range(n-1):\r\n",
        "  #zmiejszam ilość poszukiwanych miejsc kolizji do tych gdzie jest to prawdopodobne  \r\n",
        "    for i in range(1+numer_dysku,n):\r\n",
        "      if i != numer_dysku:\r\n",
        "        if abs(dyski[0][i] - dyski[0][numer_dysku]) >= 1:\r\n",
        "          break\r\n",
        "        else:\r\n",
        "          print(numer_dysku, i)\r\n",
        "          #szukam kolicji\r\n",
        "          while colision(i, numer_dysku):\r\n",
        "            nowe_rozmieszczenie[numer_dysku] = move(numer_dysku, wektor_y(dyski[1][numer_dysku]))\r\n",
        "            print(wektor_y(dyski[1][numer_dysku]))\r\n",
        "  return nowe_rozmieszczenie\r\n",
        "  \r\n",
        "\r\n",
        "rozsuwanie_dyskow(dyski)"
      ],
      "execution_count": 261,
      "outputs": [
        {
          "output_type": "stream",
          "text": [
            "0 1\n",
            "[13.7, 14.1, -6.7, 5.8, 14.3, 7.9, 13.0, -14.4, -12.4, -5.9, -7.2, 1.5, -6.6, -12.5, 5.2, 11.8, -14.1, 12.4, 13.7, 5.3, 14.6, -4.1, -13.5, 6.3, -7.4, -5.8, 1.8, -4.2, 11.6, 14.4, 5.1, -2.6, 6.1, -5.6, 6.2, 8.6, -9.4, -7.9, -14.4, -6.2, 4.2, -14.0, -13.0, 11.7, 3.4, 10.4, 2.6, 8.7, 5.0, 13.2]\n",
            "-15\n",
            "[27.9, 14.1, -6.7, 5.8, 14.3, 7.9, 13.0, -14.4, -12.4, -5.9, -7.2, 1.5, -6.6, -12.5, 5.2, 11.8, -14.1, 12.4, 13.7, 5.3, 14.6, -4.1, -13.5, 6.3, -7.4, -5.8, 1.8, -4.2, 11.6, 14.4, 5.1, -2.6, 6.1, -5.6, 6.2, 8.6, -9.4, -7.9, -14.4, -6.2, 4.2, -14.0, -13.0, 11.7, 3.4, 10.4, 2.6, 8.7, 5.0, 13.2]\n",
            "2 3\n",
            "[27.9, 14.1, -6.7, 5.8, 14.3, 7.9, 13.0, -14.4, -12.4, -5.9, -7.2, 1.5, -6.6, -12.5, 5.2, 11.8, -14.1, 12.4, 13.7, 5.3, 14.6, -4.1, -13.5, 6.3, -7.4, -5.8, 1.8, -4.2, 11.6, 14.4, 5.1, -2.6, 6.1, -5.6, 6.2, 8.6, -9.4, -7.9, -14.4, -6.2, 4.2, -14.0, -13.0, 11.7, 3.4, 10.4, 2.6, 8.7, 5.0, 13.2]\n",
            "3 4\n",
            "[27.9, 14.1, -6.7, 5.8, 14.3, 7.9, 13.0, -14.4, -12.4, -5.9, -7.2, 1.5, -6.6, -12.5, 5.2, 11.8, -14.1, 12.4, 13.7, 5.3, 14.6, -4.1, -13.5, 6.3, -7.4, -5.8, 1.8, -4.2, 11.6, 14.4, 5.1, -2.6, 6.1, -5.6, 6.2, 8.6, -9.4, -7.9, -14.4, -6.2, 4.2, -14.0, -13.0, 11.7, 3.4, 10.4, 2.6, 8.7, 5.0, 13.2]\n",
            "4 5\n",
            "[27.9, 14.1, -6.7, 5.8, 14.3, 7.9, 13.0, -14.4, -12.4, -5.9, -7.2, 1.5, -6.6, -12.5, 5.2, 11.8, -14.1, 12.4, 13.7, 5.3, 14.6, -4.1, -13.5, 6.3, -7.4, -5.8, 1.8, -4.2, 11.6, 14.4, 5.1, -2.6, 6.1, -5.6, 6.2, 8.6, -9.4, -7.9, -14.4, -6.2, 4.2, -14.0, -13.0, 11.7, 3.4, 10.4, 2.6, 8.7, 5.0, 13.2]\n",
            "6 7\n",
            "[27.9, 14.1, -6.7, 5.8, 14.3, 7.9, 13.0, -14.4, -12.4, -5.9, -7.2, 1.5, -6.6, -12.5, 5.2, 11.8, -14.1, 12.4, 13.7, 5.3, 14.6, -4.1, -13.5, 6.3, -7.4, -5.8, 1.8, -4.2, 11.6, 14.4, 5.1, -2.6, 6.1, -5.6, 6.2, 8.6, -9.4, -7.9, -14.4, -6.2, 4.2, -14.0, -13.0, 11.7, 3.4, 10.4, 2.6, 8.7, 5.0, 13.2]\n",
            "6 8\n",
            "[27.9, 14.1, -6.7, 5.8, 14.3, 7.9, 13.0, -14.4, -12.4, -5.9, -7.2, 1.5, -6.6, -12.5, 5.2, 11.8, -14.1, 12.4, 13.7, 5.3, 14.6, -4.1, -13.5, 6.3, -7.4, -5.8, 1.8, -4.2, 11.6, 14.4, 5.1, -2.6, 6.1, -5.6, 6.2, 8.6, -9.4, -7.9, -14.4, -6.2, 4.2, -14.0, -13.0, 11.7, 3.4, 10.4, 2.6, 8.7, 5.0, 13.2]\n",
            "6 9\n",
            "[27.9, 14.1, -6.7, 5.8, 14.3, 7.9, 13.0, -14.4, -12.4, -5.9, -7.2, 1.5, -6.6, -12.5, 5.2, 11.8, -14.1, 12.4, 13.7, 5.3, 14.6, -4.1, -13.5, 6.3, -7.4, -5.8, 1.8, -4.2, 11.6, 14.4, 5.1, -2.6, 6.1, -5.6, 6.2, 8.6, -9.4, -7.9, -14.4, -6.2, 4.2, -14.0, -13.0, 11.7, 3.4, 10.4, 2.6, 8.7, 5.0, 13.2]\n",
            "7 8\n",
            "[27.9, 14.1, -6.7, 5.8, 14.3, 7.9, 13.0, -14.4, -12.4, -5.9, -7.2, 1.5, -6.6, -12.5, 5.2, 11.8, -14.1, 12.4, 13.7, 5.3, 14.6, -4.1, -13.5, 6.3, -7.4, -5.8, 1.8, -4.2, 11.6, 14.4, 5.1, -2.6, 6.1, -5.6, 6.2, 8.6, -9.4, -7.9, -14.4, -6.2, 4.2, -14.0, -13.0, 11.7, 3.4, 10.4, 2.6, 8.7, 5.0, 13.2]\n",
            "7 9\n",
            "[27.9, 14.1, -6.7, 5.8, 14.3, 7.9, 13.0, -14.4, -12.4, -5.9, -7.2, 1.5, -6.6, -12.5, 5.2, 11.8, -14.1, 12.4, 13.7, 5.3, 14.6, -4.1, -13.5, 6.3, -7.4, -5.8, 1.8, -4.2, 11.6, 14.4, 5.1, -2.6, 6.1, -5.6, 6.2, 8.6, -9.4, -7.9, -14.4, -6.2, 4.2, -14.0, -13.0, 11.7, 3.4, 10.4, 2.6, 8.7, 5.0, 13.2]\n",
            "8 9\n",
            "[27.9, 14.1, -6.7, 5.8, 14.3, 7.9, 13.0, -14.4, -12.4, -5.9, -7.2, 1.5, -6.6, -12.5, 5.2, 11.8, -14.1, 12.4, 13.7, 5.3, 14.6, -4.1, -13.5, 6.3, -7.4, -5.8, 1.8, -4.2, 11.6, 14.4, 5.1, -2.6, 6.1, -5.6, 6.2, 8.6, -9.4, -7.9, -14.4, -6.2, 4.2, -14.0, -13.0, 11.7, 3.4, 10.4, 2.6, 8.7, 5.0, 13.2]\n",
            "11 12\n",
            "[27.9, 14.1, -6.7, 5.8, 14.3, 7.9, 13.0, -14.4, -12.4, -5.9, -7.2, 1.5, -6.6, -12.5, 5.2, 11.8, -14.1, 12.4, 13.7, 5.3, 14.6, -4.1, -13.5, 6.3, -7.4, -5.8, 1.8, -4.2, 11.6, 14.4, 5.1, -2.6, 6.1, -5.6, 6.2, 8.6, -9.4, -7.9, -14.4, -6.2, 4.2, -14.0, -13.0, 11.7, 3.4, 10.4, 2.6, 8.7, 5.0, 13.2]\n",
            "11 13\n",
            "[27.9, 14.1, -6.7, 5.8, 14.3, 7.9, 13.0, -14.4, -12.4, -5.9, -7.2, 1.5, -6.6, -12.5, 5.2, 11.8, -14.1, 12.4, 13.7, 5.3, 14.6, -4.1, -13.5, 6.3, -7.4, -5.8, 1.8, -4.2, 11.6, 14.4, 5.1, -2.6, 6.1, -5.6, 6.2, 8.6, -9.4, -7.9, -14.4, -6.2, 4.2, -14.0, -13.0, 11.7, 3.4, 10.4, 2.6, 8.7, 5.0, 13.2]\n",
            "11 14\n",
            "[27.9, 14.1, -6.7, 5.8, 14.3, 7.9, 13.0, -14.4, -12.4, -5.9, -7.2, 1.5, -6.6, -12.5, 5.2, 11.8, -14.1, 12.4, 13.7, 5.3, 14.6, -4.1, -13.5, 6.3, -7.4, -5.8, 1.8, -4.2, 11.6, 14.4, 5.1, -2.6, 6.1, -5.6, 6.2, 8.6, -9.4, -7.9, -14.4, -6.2, 4.2, -14.0, -13.0, 11.7, 3.4, 10.4, 2.6, 8.7, 5.0, 13.2]\n",
            "12 13\n",
            "[27.9, 14.1, -6.7, 5.8, 14.3, 7.9, 13.0, -14.4, -12.4, -5.9, -7.2, 1.5, -6.6, -12.5, 5.2, 11.8, -14.1, 12.4, 13.7, 5.3, 14.6, -4.1, -13.5, 6.3, -7.4, -5.8, 1.8, -4.2, 11.6, 14.4, 5.1, -2.6, 6.1, -5.6, 6.2, 8.6, -9.4, -7.9, -14.4, -6.2, 4.2, -14.0, -13.0, 11.7, 3.4, 10.4, 2.6, 8.7, 5.0, 13.2]\n",
            "12 14\n",
            "[27.9, 14.1, -6.7, 5.8, 14.3, 7.9, 13.0, -14.4, -12.4, -5.9, -7.2, 1.5, -6.6, -12.5, 5.2, 11.8, -14.1, 12.4, 13.7, 5.3, 14.6, -4.1, -13.5, 6.3, -7.4, -5.8, 1.8, -4.2, 11.6, 14.4, 5.1, -2.6, 6.1, -5.6, 6.2, 8.6, -9.4, -7.9, -14.4, -6.2, 4.2, -14.0, -13.0, 11.7, 3.4, 10.4, 2.6, 8.7, 5.0, 13.2]\n",
            "13 14\n",
            "[27.9, 14.1, -6.7, 5.8, 14.3, 7.9, 13.0, -14.4, -12.4, -5.9, -7.2, 1.5, -6.6, -12.5, 5.2, 11.8, -14.1, 12.4, 13.7, 5.3, 14.6, -4.1, -13.5, 6.3, -7.4, -5.8, 1.8, -4.2, 11.6, 14.4, 5.1, -2.6, 6.1, -5.6, 6.2, 8.6, -9.4, -7.9, -14.4, -6.2, 4.2, -14.0, -13.0, 11.7, 3.4, 10.4, 2.6, 8.7, 5.0, 13.2]\n",
            "13 15\n",
            "[27.9, 14.1, -6.7, 5.8, 14.3, 7.9, 13.0, -14.4, -12.4, -5.9, -7.2, 1.5, -6.6, -12.5, 5.2, 11.8, -14.1, 12.4, 13.7, 5.3, 14.6, -4.1, -13.5, 6.3, -7.4, -5.8, 1.8, -4.2, 11.6, 14.4, 5.1, -2.6, 6.1, -5.6, 6.2, 8.6, -9.4, -7.9, -14.4, -6.2, 4.2, -14.0, -13.0, 11.7, 3.4, 10.4, 2.6, 8.7, 5.0, 13.2]\n",
            "14 15\n",
            "[27.9, 14.1, -6.7, 5.8, 14.3, 7.9, 13.0, -14.4, -12.4, -5.9, -7.2, 1.5, -6.6, -12.5, 5.2, 11.8, -14.1, 12.4, 13.7, 5.3, 14.6, -4.1, -13.5, 6.3, -7.4, -5.8, 1.8, -4.2, 11.6, 14.4, 5.1, -2.6, 6.1, -5.6, 6.2, 8.6, -9.4, -7.9, -14.4, -6.2, 4.2, -14.0, -13.0, 11.7, 3.4, 10.4, 2.6, 8.7, 5.0, 13.2]\n",
            "14 16\n",
            "[27.9, 14.1, -6.7, 5.8, 14.3, 7.9, 13.0, -14.4, -12.4, -5.9, -7.2, 1.5, -6.6, -12.5, 5.2, 11.8, -14.1, 12.4, 13.7, 5.3, 14.6, -4.1, -13.5, 6.3, -7.4, -5.8, 1.8, -4.2, 11.6, 14.4, 5.1, -2.6, 6.1, -5.6, 6.2, 8.6, -9.4, -7.9, -14.4, -6.2, 4.2, -14.0, -13.0, 11.7, 3.4, 10.4, 2.6, 8.7, 5.0, 13.2]\n",
            "15 16\n",
            "[27.9, 14.1, -6.7, 5.8, 14.3, 7.9, 13.0, -14.4, -12.4, -5.9, -7.2, 1.5, -6.6, -12.5, 5.2, 11.8, -14.1, 12.4, 13.7, 5.3, 14.6, -4.1, -13.5, 6.3, -7.4, -5.8, 1.8, -4.2, 11.6, 14.4, 5.1, -2.6, 6.1, -5.6, 6.2, 8.6, -9.4, -7.9, -14.4, -6.2, 4.2, -14.0, -13.0, 11.7, 3.4, 10.4, 2.6, 8.7, 5.0, 13.2]\n",
            "17 18\n",
            "[27.9, 14.1, -6.7, 5.8, 14.3, 7.9, 13.0, -14.4, -12.4, -5.9, -7.2, 1.5, -6.6, -12.5, 5.2, 11.8, -14.1, 12.4, 13.7, 5.3, 14.6, -4.1, -13.5, 6.3, -7.4, -5.8, 1.8, -4.2, 11.6, 14.4, 5.1, -2.6, 6.1, -5.6, 6.2, 8.6, -9.4, -7.9, -14.4, -6.2, 4.2, -14.0, -13.0, 11.7, 3.4, 10.4, 2.6, 8.7, 5.0, 13.2]\n",
            "17 19\n",
            "[27.9, 14.1, -6.7, 5.8, 14.3, 7.9, 13.0, -14.4, -12.4, -5.9, -7.2, 1.5, -6.6, -12.5, 5.2, 11.8, -14.1, 12.4, 13.7, 5.3, 14.6, -4.1, -13.5, 6.3, -7.4, -5.8, 1.8, -4.2, 11.6, 14.4, 5.1, -2.6, 6.1, -5.6, 6.2, 8.6, -9.4, -7.9, -14.4, -6.2, 4.2, -14.0, -13.0, 11.7, 3.4, 10.4, 2.6, 8.7, 5.0, 13.2]\n",
            "18 19\n",
            "[27.9, 14.1, -6.7, 5.8, 14.3, 7.9, 13.0, -14.4, -12.4, -5.9, -7.2, 1.5, -6.6, -12.5, 5.2, 11.8, -14.1, 12.4, 13.7, 5.3, 14.6, -4.1, -13.5, 6.3, -7.4, -5.8, 1.8, -4.2, 11.6, 14.4, 5.1, -2.6, 6.1, -5.6, 6.2, 8.6, -9.4, -7.9, -14.4, -6.2, 4.2, -14.0, -13.0, 11.7, 3.4, 10.4, 2.6, 8.7, 5.0, 13.2]\n",
            "20 21\n",
            "[27.9, 14.1, -6.7, 5.8, 14.3, 7.9, 13.0, -14.4, -12.4, -5.9, -7.2, 1.5, -6.6, -12.5, 5.2, 11.8, -14.1, 12.4, 13.7, 5.3, 14.6, -4.1, -13.5, 6.3, -7.4, -5.8, 1.8, -4.2, 11.6, 14.4, 5.1, -2.6, 6.1, -5.6, 6.2, 8.6, -9.4, -7.9, -14.4, -6.2, 4.2, -14.0, -13.0, 11.7, 3.4, 10.4, 2.6, 8.7, 5.0, 13.2]\n",
            "22 23\n",
            "[27.9, 14.1, -6.7, 5.8, 14.3, 7.9, 13.0, -14.4, -12.4, -5.9, -7.2, 1.5, -6.6, -12.5, 5.2, 11.8, -14.1, 12.4, 13.7, 5.3, 14.6, -4.1, -13.5, 6.3, -7.4, -5.8, 1.8, -4.2, 11.6, 14.4, 5.1, -2.6, 6.1, -5.6, 6.2, 8.6, -9.4, -7.9, -14.4, -6.2, 4.2, -14.0, -13.0, 11.7, 3.4, 10.4, 2.6, 8.7, 5.0, 13.2]\n",
            "22 24\n",
            "[27.9, 14.1, -6.7, 5.8, 14.3, 7.9, 13.0, -14.4, -12.4, -5.9, -7.2, 1.5, -6.6, -12.5, 5.2, 11.8, -14.1, 12.4, 13.7, 5.3, 14.6, -4.1, -13.5, 6.3, -7.4, -5.8, 1.8, -4.2, 11.6, 14.4, 5.1, -2.6, 6.1, -5.6, 6.2, 8.6, -9.4, -7.9, -14.4, -6.2, 4.2, -14.0, -13.0, 11.7, 3.4, 10.4, 2.6, 8.7, 5.0, 13.2]\n",
            "23 24\n",
            "[27.9, 14.1, -6.7, 5.8, 14.3, 7.9, 13.0, -14.4, -12.4, -5.9, -7.2, 1.5, -6.6, -12.5, 5.2, 11.8, -14.1, 12.4, 13.7, 5.3, 14.6, -4.1, -13.5, 6.3, -7.4, -5.8, 1.8, -4.2, 11.6, 14.4, 5.1, -2.6, 6.1, -5.6, 6.2, 8.6, -9.4, -7.9, -14.4, -6.2, 4.2, -14.0, -13.0, 11.7, 3.4, 10.4, 2.6, 8.7, 5.0, 13.2]\n",
            "24 25\n",
            "[27.9, 14.1, -6.7, 5.8, 14.3, 7.9, 13.0, -14.4, -12.4, -5.9, -7.2, 1.5, -6.6, -12.5, 5.2, 11.8, -14.1, 12.4, 13.7, 5.3, 14.6, -4.1, -13.5, 6.3, -7.4, -5.8, 1.8, -4.2, 11.6, 14.4, 5.1, -2.6, 6.1, -5.6, 6.2, 8.6, -9.4, -7.9, -14.4, -6.2, 4.2, -14.0, -13.0, 11.7, 3.4, 10.4, 2.6, 8.7, 5.0, 13.2]\n",
            "26 27\n",
            "[27.9, 14.1, -6.7, 5.8, 14.3, 7.9, 13.0, -14.4, -12.4, -5.9, -7.2, 1.5, -6.6, -12.5, 5.2, 11.8, -14.1, 12.4, 13.7, 5.3, 14.6, -4.1, -13.5, 6.3, -7.4, -5.8, 1.8, -4.2, 11.6, 14.4, 5.1, -2.6, 6.1, -5.6, 6.2, 8.6, -9.4, -7.9, -14.4, -6.2, 4.2, -14.0, -13.0, 11.7, 3.4, 10.4, 2.6, 8.7, 5.0, 13.2]\n",
            "26 28\n",
            "[27.9, 14.1, -6.7, 5.8, 14.3, 7.9, 13.0, -14.4, -12.4, -5.9, -7.2, 1.5, -6.6, -12.5, 5.2, 11.8, -14.1, 12.4, 13.7, 5.3, 14.6, -4.1, -13.5, 6.3, -7.4, -5.8, 1.8, -4.2, 11.6, 14.4, 5.1, -2.6, 6.1, -5.6, 6.2, 8.6, -9.4, -7.9, -14.4, -6.2, 4.2, -14.0, -13.0, 11.7, 3.4, 10.4, 2.6, 8.7, 5.0, 13.2]\n",
            "27 28\n",
            "[27.9, 14.1, -6.7, 5.8, 14.3, 7.9, 13.0, -14.4, -12.4, -5.9, -7.2, 1.5, -6.6, -12.5, 5.2, 11.8, -14.1, 12.4, 13.7, 5.3, 14.6, -4.1, -13.5, 6.3, -7.4, -5.8, 1.8, -4.2, 11.6, 14.4, 5.1, -2.6, 6.1, -5.6, 6.2, 8.6, -9.4, -7.9, -14.4, -6.2, 4.2, -14.0, -13.0, 11.7, 3.4, 10.4, 2.6, 8.7, 5.0, 13.2]\n",
            "28 29\n",
            "[27.9, 14.1, -6.7, 5.8, 14.3, 7.9, 13.0, -14.4, -12.4, -5.9, -7.2, 1.5, -6.6, -12.5, 5.2, 11.8, -14.1, 12.4, 13.7, 5.3, 14.6, -4.1, -13.5, 6.3, -7.4, -5.8, 1.8, -4.2, 11.6, 14.4, 5.1, -2.6, 6.1, -5.6, 6.2, 8.6, -9.4, -7.9, -14.4, -6.2, 4.2, -14.0, -13.0, 11.7, 3.4, 10.4, 2.6, 8.7, 5.0, 13.2]\n",
            "29 30\n",
            "[27.9, 14.1, -6.7, 5.8, 14.3, 7.9, 13.0, -14.4, -12.4, -5.9, -7.2, 1.5, -6.6, -12.5, 5.2, 11.8, -14.1, 12.4, 13.7, 5.3, 14.6, -4.1, -13.5, 6.3, -7.4, -5.8, 1.8, -4.2, 11.6, 14.4, 5.1, -2.6, 6.1, -5.6, 6.2, 8.6, -9.4, -7.9, -14.4, -6.2, 4.2, -14.0, -13.0, 11.7, 3.4, 10.4, 2.6, 8.7, 5.0, 13.2]\n",
            "31 32\n",
            "[27.9, 14.1, -6.7, 5.8, 14.3, 7.9, 13.0, -14.4, -12.4, -5.9, -7.2, 1.5, -6.6, -12.5, 5.2, 11.8, -14.1, 12.4, 13.7, 5.3, 14.6, -4.1, -13.5, 6.3, -7.4, -5.8, 1.8, -4.2, 11.6, 14.4, 5.1, -2.6, 6.1, -5.6, 6.2, 8.6, -9.4, -7.9, -14.4, -6.2, 4.2, -14.0, -13.0, 11.7, 3.4, 10.4, 2.6, 8.7, 5.0, 13.2]\n",
            "32 33\n",
            "[27.9, 14.1, -6.7, 5.8, 14.3, 7.9, 13.0, -14.4, -12.4, -5.9, -7.2, 1.5, -6.6, -12.5, 5.2, 11.8, -14.1, 12.4, 13.7, 5.3, 14.6, -4.1, -13.5, 6.3, -7.4, -5.8, 1.8, -4.2, 11.6, 14.4, 5.1, -2.6, 6.1, -5.6, 6.2, 8.6, -9.4, -7.9, -14.4, -6.2, 4.2, -14.0, -13.0, 11.7, 3.4, 10.4, 2.6, 8.7, 5.0, 13.2]\n",
            "32 34\n",
            "[27.9, 14.1, -6.7, 5.8, 14.3, 7.9, 13.0, -14.4, -12.4, -5.9, -7.2, 1.5, -6.6, -12.5, 5.2, 11.8, -14.1, 12.4, 13.7, 5.3, 14.6, -4.1, -13.5, 6.3, -7.4, -5.8, 1.8, -4.2, 11.6, 14.4, 5.1, -2.6, 6.1, -5.6, 6.2, 8.6, -9.4, -7.9, -14.4, -6.2, 4.2, -14.0, -13.0, 11.7, 3.4, 10.4, 2.6, 8.7, 5.0, 13.2]\n",
            "13.2\n",
            "[27.9, 14.1, -6.7, 5.8, 14.3, 7.9, 13.0, -14.4, -12.4, -5.9, -7.2, 1.5, -6.6, -12.5, 5.2, 11.8, -14.1, 12.4, 13.7, 5.3, 14.6, -4.1, -13.5, 6.3, -7.4, -5.8, 1.8, -4.2, 11.6, 14.4, 5.1, -2.6, 12.7, -5.6, 6.2, 8.6, -9.4, -7.9, -14.4, -6.2, 4.2, -14.0, -13.0, 11.7, 3.4, 10.4, 2.6, 8.7, 5.0, 13.2]\n",
            "32 35\n",
            "[27.9, 14.1, -6.7, 5.8, 14.3, 7.9, 13.0, -14.4, -12.4, -5.9, -7.2, 1.5, -6.6, -12.5, 5.2, 11.8, -14.1, 12.4, 13.7, 5.3, 14.6, -4.1, -13.5, 6.3, -7.4, -5.8, 1.8, -4.2, 11.6, 14.4, 5.1, -2.6, 12.7, -5.6, 6.2, 8.6, -9.4, -7.9, -14.4, -6.2, 4.2, -14.0, -13.0, 11.7, 3.4, 10.4, 2.6, 8.7, 5.0, 13.2]\n",
            "33 34\n",
            "[27.9, 14.1, -6.7, 5.8, 14.3, 7.9, 13.0, -14.4, -12.4, -5.9, -7.2, 1.5, -6.6, -12.5, 5.2, 11.8, -14.1, 12.4, 13.7, 5.3, 14.6, -4.1, -13.5, 6.3, -7.4, -5.8, 1.8, -4.2, 11.6, 14.4, 5.1, -2.6, 12.7, -5.6, 6.2, 8.6, -9.4, -7.9, -14.4, -6.2, 4.2, -14.0, -13.0, 11.7, 3.4, 10.4, 2.6, 8.7, 5.0, 13.2]\n",
            "33 35\n",
            "[27.9, 14.1, -6.7, 5.8, 14.3, 7.9, 13.0, -14.4, -12.4, -5.9, -7.2, 1.5, -6.6, -12.5, 5.2, 11.8, -14.1, 12.4, 13.7, 5.3, 14.6, -4.1, -13.5, 6.3, -7.4, -5.8, 1.8, -4.2, 11.6, 14.4, 5.1, -2.6, 12.7, -5.6, 6.2, 8.6, -9.4, -7.9, -14.4, -6.2, 4.2, -14.0, -13.0, 11.7, 3.4, 10.4, 2.6, 8.7, 5.0, 13.2]\n",
            "34 35\n",
            "[27.9, 14.1, -6.7, 5.8, 14.3, 7.9, 13.0, -14.4, -12.4, -5.9, -7.2, 1.5, -6.6, -12.5, 5.2, 11.8, -14.1, 12.4, 13.7, 5.3, 14.6, -4.1, -13.5, 6.3, -7.4, -5.8, 1.8, -4.2, 11.6, 14.4, 5.1, -2.6, 12.7, -5.6, 6.2, 8.6, -9.4, -7.9, -14.4, -6.2, 4.2, -14.0, -13.0, 11.7, 3.4, 10.4, 2.6, 8.7, 5.0, 13.2]\n",
            "34 36\n",
            "[27.9, 14.1, -6.7, 5.8, 14.3, 7.9, 13.0, -14.4, -12.4, -5.9, -7.2, 1.5, -6.6, -12.5, 5.2, 11.8, -14.1, 12.4, 13.7, 5.3, 14.6, -4.1, -13.5, 6.3, -7.4, -5.8, 1.8, -4.2, 11.6, 14.4, 5.1, -2.6, 12.7, -5.6, 6.2, 8.6, -9.4, -7.9, -14.4, -6.2, 4.2, -14.0, -13.0, 11.7, 3.4, 10.4, 2.6, 8.7, 5.0, 13.2]\n",
            "35 36\n",
            "[27.9, 14.1, -6.7, 5.8, 14.3, 7.9, 13.0, -14.4, -12.4, -5.9, -7.2, 1.5, -6.6, -12.5, 5.2, 11.8, -14.1, 12.4, 13.7, 5.3, 14.6, -4.1, -13.5, 6.3, -7.4, -5.8, 1.8, -4.2, 11.6, 14.4, 5.1, -2.6, 12.7, -5.6, 6.2, 8.6, -9.4, -7.9, -14.4, -6.2, 4.2, -14.0, -13.0, 11.7, 3.4, 10.4, 2.6, 8.7, 5.0, 13.2]\n",
            "35 37\n",
            "[27.9, 14.1, -6.7, 5.8, 14.3, 7.9, 13.0, -14.4, -12.4, -5.9, -7.2, 1.5, -6.6, -12.5, 5.2, 11.8, -14.1, 12.4, 13.7, 5.3, 14.6, -4.1, -13.5, 6.3, -7.4, -5.8, 1.8, -4.2, 11.6, 14.4, 5.1, -2.6, 12.7, -5.6, 6.2, 8.6, -9.4, -7.9, -14.4, -6.2, 4.2, -14.0, -13.0, 11.7, 3.4, 10.4, 2.6, 8.7, 5.0, 13.2]\n",
            "35 38\n",
            "[27.9, 14.1, -6.7, 5.8, 14.3, 7.9, 13.0, -14.4, -12.4, -5.9, -7.2, 1.5, -6.6, -12.5, 5.2, 11.8, -14.1, 12.4, 13.7, 5.3, 14.6, -4.1, -13.5, 6.3, -7.4, -5.8, 1.8, -4.2, 11.6, 14.4, 5.1, -2.6, 12.7, -5.6, 6.2, 8.6, -9.4, -7.9, -14.4, -6.2, 4.2, -14.0, -13.0, 11.7, 3.4, 10.4, 2.6, 8.7, 5.0, 13.2]\n",
            "36 37\n",
            "[27.9, 14.1, -6.7, 5.8, 14.3, 7.9, 13.0, -14.4, -12.4, -5.9, -7.2, 1.5, -6.6, -12.5, 5.2, 11.8, -14.1, 12.4, 13.7, 5.3, 14.6, -4.1, -13.5, 6.3, -7.4, -5.8, 1.8, -4.2, 11.6, 14.4, 5.1, -2.6, 12.7, -5.6, 6.2, 8.6, -9.4, -7.9, -14.4, -6.2, 4.2, -14.0, -13.0, 11.7, 3.4, 10.4, 2.6, 8.7, 5.0, 13.2]\n",
            "36 38\n",
            "[27.9, 14.1, -6.7, 5.8, 14.3, 7.9, 13.0, -14.4, -12.4, -5.9, -7.2, 1.5, -6.6, -12.5, 5.2, 11.8, -14.1, 12.4, 13.7, 5.3, 14.6, -4.1, -13.5, 6.3, -7.4, -5.8, 1.8, -4.2, 11.6, 14.4, 5.1, -2.6, 12.7, -5.6, 6.2, 8.6, -9.4, -7.9, -14.4, -6.2, 4.2, -14.0, -13.0, 11.7, 3.4, 10.4, 2.6, 8.7, 5.0, 13.2]\n",
            "36 39\n",
            "[27.9, 14.1, -6.7, 5.8, 14.3, 7.9, 13.0, -14.4, -12.4, -5.9, -7.2, 1.5, -6.6, -12.5, 5.2, 11.8, -14.1, 12.4, 13.7, 5.3, 14.6, -4.1, -13.5, 6.3, -7.4, -5.8, 1.8, -4.2, 11.6, 14.4, 5.1, -2.6, 12.7, -5.6, 6.2, 8.6, -9.4, -7.9, -14.4, -6.2, 4.2, -14.0, -13.0, 11.7, 3.4, 10.4, 2.6, 8.7, 5.0, 13.2]\n",
            "36 40\n",
            "[27.9, 14.1, -6.7, 5.8, 14.3, 7.9, 13.0, -14.4, -12.4, -5.9, -7.2, 1.5, -6.6, -12.5, 5.2, 11.8, -14.1, 12.4, 13.7, 5.3, 14.6, -4.1, -13.5, 6.3, -7.4, -5.8, 1.8, -4.2, 11.6, 14.4, 5.1, -2.6, 12.7, -5.6, 6.2, 8.6, -9.4, -7.9, -14.4, -6.2, 4.2, -14.0, -13.0, 11.7, 3.4, 10.4, 2.6, 8.7, 5.0, 13.2]\n",
            "36 41\n",
            "[27.9, 14.1, -6.7, 5.8, 14.3, 7.9, 13.0, -14.4, -12.4, -5.9, -7.2, 1.5, -6.6, -12.5, 5.2, 11.8, -14.1, 12.4, 13.7, 5.3, 14.6, -4.1, -13.5, 6.3, -7.4, -5.8, 1.8, -4.2, 11.6, 14.4, 5.1, -2.6, 12.7, -5.6, 6.2, 8.6, -9.4, -7.9, -14.4, -6.2, 4.2, -14.0, -13.0, 11.7, 3.4, 10.4, 2.6, 8.7, 5.0, 13.2]\n",
            "36 42\n",
            "[27.9, 14.1, -6.7, 5.8, 14.3, 7.9, 13.0, -14.4, -12.4, -5.9, -7.2, 1.5, -6.6, -12.5, 5.2, 11.8, -14.1, 12.4, 13.7, 5.3, 14.6, -4.1, -13.5, 6.3, -7.4, -5.8, 1.8, -4.2, 11.6, 14.4, 5.1, -2.6, 12.7, -5.6, 6.2, 8.6, -9.4, -7.9, -14.4, -6.2, 4.2, -14.0, -13.0, 11.7, 3.4, 10.4, 2.6, 8.7, 5.0, 13.2]\n",
            "37 38\n",
            "[27.9, 14.1, -6.7, 5.8, 14.3, 7.9, 13.0, -14.4, -12.4, -5.9, -7.2, 1.5, -6.6, -12.5, 5.2, 11.8, -14.1, 12.4, 13.7, 5.3, 14.6, -4.1, -13.5, 6.3, -7.4, -5.8, 1.8, -4.2, 11.6, 14.4, 5.1, -2.6, 12.7, -5.6, 6.2, 8.6, -9.4, -7.9, -14.4, -6.2, 4.2, -14.0, -13.0, 11.7, 3.4, 10.4, 2.6, 8.7, 5.0, 13.2]\n",
            "37 39\n",
            "[27.9, 14.1, -6.7, 5.8, 14.3, 7.9, 13.0, -14.4, -12.4, -5.9, -7.2, 1.5, -6.6, -12.5, 5.2, 11.8, -14.1, 12.4, 13.7, 5.3, 14.6, -4.1, -13.5, 6.3, -7.4, -5.8, 1.8, -4.2, 11.6, 14.4, 5.1, -2.6, 12.7, -5.6, 6.2, 8.6, -9.4, -7.9, -14.4, -6.2, 4.2, -14.0, -13.0, 11.7, 3.4, 10.4, 2.6, 8.7, 5.0, 13.2]\n",
            "37 40\n",
            "[27.9, 14.1, -6.7, 5.8, 14.3, 7.9, 13.0, -14.4, -12.4, -5.9, -7.2, 1.5, -6.6, -12.5, 5.2, 11.8, -14.1, 12.4, 13.7, 5.3, 14.6, -4.1, -13.5, 6.3, -7.4, -5.8, 1.8, -4.2, 11.6, 14.4, 5.1, -2.6, 12.7, -5.6, 6.2, 8.6, -9.4, -7.9, -14.4, -6.2, 4.2, -14.0, -13.0, 11.7, 3.4, 10.4, 2.6, 8.7, 5.0, 13.2]\n",
            "37 41\n",
            "[27.9, 14.1, -6.7, 5.8, 14.3, 7.9, 13.0, -14.4, -12.4, -5.9, -7.2, 1.5, -6.6, -12.5, 5.2, 11.8, -14.1, 12.4, 13.7, 5.3, 14.6, -4.1, -13.5, 6.3, -7.4, -5.8, 1.8, -4.2, 11.6, 14.4, 5.1, -2.6, 12.7, -5.6, 6.2, 8.6, -9.4, -7.9, -14.4, -6.2, 4.2, -14.0, -13.0, 11.7, 3.4, 10.4, 2.6, 8.7, 5.0, 13.2]\n",
            "37 42\n",
            "[27.9, 14.1, -6.7, 5.8, 14.3, 7.9, 13.0, -14.4, -12.4, -5.9, -7.2, 1.5, -6.6, -12.5, 5.2, 11.8, -14.1, 12.4, 13.7, 5.3, 14.6, -4.1, -13.5, 6.3, -7.4, -5.8, 1.8, -4.2, 11.6, 14.4, 5.1, -2.6, 12.7, -5.6, 6.2, 8.6, -9.4, -7.9, -14.4, -6.2, 4.2, -14.0, -13.0, 11.7, 3.4, 10.4, 2.6, 8.7, 5.0, 13.2]\n",
            "38 39\n",
            "[27.9, 14.1, -6.7, 5.8, 14.3, 7.9, 13.0, -14.4, -12.4, -5.9, -7.2, 1.5, -6.6, -12.5, 5.2, 11.8, -14.1, 12.4, 13.7, 5.3, 14.6, -4.1, -13.5, 6.3, -7.4, -5.8, 1.8, -4.2, 11.6, 14.4, 5.1, -2.6, 12.7, -5.6, 6.2, 8.6, -9.4, -7.9, -14.4, -6.2, 4.2, -14.0, -13.0, 11.7, 3.4, 10.4, 2.6, 8.7, 5.0, 13.2]\n",
            "38 40\n",
            "[27.9, 14.1, -6.7, 5.8, 14.3, 7.9, 13.0, -14.4, -12.4, -5.9, -7.2, 1.5, -6.6, -12.5, 5.2, 11.8, -14.1, 12.4, 13.7, 5.3, 14.6, -4.1, -13.5, 6.3, -7.4, -5.8, 1.8, -4.2, 11.6, 14.4, 5.1, -2.6, 12.7, -5.6, 6.2, 8.6, -9.4, -7.9, -14.4, -6.2, 4.2, -14.0, -13.0, 11.7, 3.4, 10.4, 2.6, 8.7, 5.0, 13.2]\n",
            "38 41\n",
            "[27.9, 14.1, -6.7, 5.8, 14.3, 7.9, 13.0, -14.4, -12.4, -5.9, -7.2, 1.5, -6.6, -12.5, 5.2, 11.8, -14.1, 12.4, 13.7, 5.3, 14.6, -4.1, -13.5, 6.3, -7.4, -5.8, 1.8, -4.2, 11.6, 14.4, 5.1, -2.6, 12.7, -5.6, 6.2, 8.6, -9.4, -7.9, -14.4, -6.2, 4.2, -14.0, -13.0, 11.7, 3.4, 10.4, 2.6, 8.7, 5.0, 13.2]\n",
            "-27.8\n",
            "[27.9, 14.1, -6.7, 5.8, 14.3, 7.9, 13.0, -14.4, -12.4, -5.9, -7.2, 1.5, -6.6, -12.5, 5.2, 11.8, -14.1, 12.4, 13.7, 5.3, 14.6, -4.1, -13.5, 6.3, -7.4, -5.8, 1.8, -4.2, 11.6, 14.4, 5.1, -2.6, 12.7, -5.6, 6.2, 8.6, -9.4, -7.9, -28.3, -6.2, 4.2, -14.0, -13.0, 11.7, 3.4, 10.4, 2.6, 8.7, 5.0, 13.2]\n",
            "38 42\n",
            "[27.9, 14.1, -6.7, 5.8, 14.3, 7.9, 13.0, -14.4, -12.4, -5.9, -7.2, 1.5, -6.6, -12.5, 5.2, 11.8, -14.1, 12.4, 13.7, 5.3, 14.6, -4.1, -13.5, 6.3, -7.4, -5.8, 1.8, -4.2, 11.6, 14.4, 5.1, -2.6, 12.7, -5.6, 6.2, 8.6, -9.4, -7.9, -28.3, -6.2, 4.2, -14.0, -13.0, 11.7, 3.4, 10.4, 2.6, 8.7, 5.0, 13.2]\n",
            "39 40\n",
            "[27.9, 14.1, -6.7, 5.8, 14.3, 7.9, 13.0, -14.4, -12.4, -5.9, -7.2, 1.5, -6.6, -12.5, 5.2, 11.8, -14.1, 12.4, 13.7, 5.3, 14.6, -4.1, -13.5, 6.3, -7.4, -5.8, 1.8, -4.2, 11.6, 14.4, 5.1, -2.6, 12.7, -5.6, 6.2, 8.6, -9.4, -7.9, -28.3, -6.2, 4.2, -14.0, -13.0, 11.7, 3.4, 10.4, 2.6, 8.7, 5.0, 13.2]\n",
            "39 41\n",
            "[27.9, 14.1, -6.7, 5.8, 14.3, 7.9, 13.0, -14.4, -12.4, -5.9, -7.2, 1.5, -6.6, -12.5, 5.2, 11.8, -14.1, 12.4, 13.7, 5.3, 14.6, -4.1, -13.5, 6.3, -7.4, -5.8, 1.8, -4.2, 11.6, 14.4, 5.1, -2.6, 12.7, -5.6, 6.2, 8.6, -9.4, -7.9, -28.3, -6.2, 4.2, -14.0, -13.0, 11.7, 3.4, 10.4, 2.6, 8.7, 5.0, 13.2]\n",
            "39 42\n",
            "[27.9, 14.1, -6.7, 5.8, 14.3, 7.9, 13.0, -14.4, -12.4, -5.9, -7.2, 1.5, -6.6, -12.5, 5.2, 11.8, -14.1, 12.4, 13.7, 5.3, 14.6, -4.1, -13.5, 6.3, -7.4, -5.8, 1.8, -4.2, 11.6, 14.4, 5.1, -2.6, 12.7, -5.6, 6.2, 8.6, -9.4, -7.9, -28.3, -6.2, 4.2, -14.0, -13.0, 11.7, 3.4, 10.4, 2.6, 8.7, 5.0, 13.2]\n",
            "40 41\n",
            "[27.9, 14.1, -6.7, 5.8, 14.3, 7.9, 13.0, -14.4, -12.4, -5.9, -7.2, 1.5, -6.6, -12.5, 5.2, 11.8, -14.1, 12.4, 13.7, 5.3, 14.6, -4.1, -13.5, 6.3, -7.4, -5.8, 1.8, -4.2, 11.6, 14.4, 5.1, -2.6, 12.7, -5.6, 6.2, 8.6, -9.4, -7.9, -28.3, -6.2, 4.2, -14.0, -13.0, 11.7, 3.4, 10.4, 2.6, 8.7, 5.0, 13.2]\n",
            "40 42\n",
            "[27.9, 14.1, -6.7, 5.8, 14.3, 7.9, 13.0, -14.4, -12.4, -5.9, -7.2, 1.5, -6.6, -12.5, 5.2, 11.8, -14.1, 12.4, 13.7, 5.3, 14.6, -4.1, -13.5, 6.3, -7.4, -5.8, 1.8, -4.2, 11.6, 14.4, 5.1, -2.6, 12.7, -5.6, 6.2, 8.6, -9.4, -7.9, -28.3, -6.2, 4.2, -14.0, -13.0, 11.7, 3.4, 10.4, 2.6, 8.7, 5.0, 13.2]\n",
            "41 42\n",
            "[27.9, 14.1, -6.7, 5.8, 14.3, 7.9, 13.0, -14.4, -12.4, -5.9, -7.2, 1.5, -6.6, -12.5, 5.2, 11.8, -14.1, 12.4, 13.7, 5.3, 14.6, -4.1, -13.5, 6.3, -7.4, -5.8, 1.8, -4.2, 11.6, 14.4, 5.1, -2.6, 12.7, -5.6, 6.2, 8.6, -9.4, -7.9, -28.3, -6.2, 4.2, -14.0, -13.0, 11.7, 3.4, 10.4, 2.6, 8.7, 5.0, 13.2]\n",
            "41 43\n",
            "[27.9, 14.1, -6.7, 5.8, 14.3, 7.9, 13.0, -14.4, -12.4, -5.9, -7.2, 1.5, -6.6, -12.5, 5.2, 11.8, -14.1, 12.4, 13.7, 5.3, 14.6, -4.1, -13.5, 6.3, -7.4, -5.8, 1.8, -4.2, 11.6, 14.4, 5.1, -2.6, 12.7, -5.6, 6.2, 8.6, -9.4, -7.9, -28.3, -6.2, 4.2, -14.0, -13.0, 11.7, 3.4, 10.4, 2.6, 8.7, 5.0, 13.2]\n",
            "42 43\n",
            "[27.9, 14.1, -6.7, 5.8, 14.3, 7.9, 13.0, -14.4, -12.4, -5.9, -7.2, 1.5, -6.6, -12.5, 5.2, 11.8, -14.1, 12.4, 13.7, 5.3, 14.6, -4.1, -13.5, 6.3, -7.4, -5.8, 1.8, -4.2, 11.6, 14.4, 5.1, -2.6, 12.7, -5.6, 6.2, 8.6, -9.4, -7.9, -28.3, -6.2, 4.2, -14.0, -13.0, 11.7, 3.4, 10.4, 2.6, 8.7, 5.0, 13.2]\n",
            "44 45\n",
            "[27.9, 14.1, -6.7, 5.8, 14.3, 7.9, 13.0, -14.4, -12.4, -5.9, -7.2, 1.5, -6.6, -12.5, 5.2, 11.8, -14.1, 12.4, 13.7, 5.3, 14.6, -4.1, -13.5, 6.3, -7.4, -5.8, 1.8, -4.2, 11.6, 14.4, 5.1, -2.6, 12.7, -5.6, 6.2, 8.6, -9.4, -7.9, -28.3, -6.2, 4.2, -14.0, -13.0, 11.7, 3.4, 10.4, 2.6, 8.7, 5.0, 13.2]\n",
            "44 46\n",
            "[27.9, 14.1, -6.7, 5.8, 14.3, 7.9, 13.0, -14.4, -12.4, -5.9, -7.2, 1.5, -6.6, -12.5, 5.2, 11.8, -14.1, 12.4, 13.7, 5.3, 14.6, -4.1, -13.5, 6.3, -7.4, -5.8, 1.8, -4.2, 11.6, 14.4, 5.1, -2.6, 12.7, -5.6, 6.2, 8.6, -9.4, -7.9, -28.3, -6.2, 4.2, -14.0, -13.0, 11.7, 3.4, 10.4, 2.6, 8.7, 5.0, 13.2]\n",
            "7.8\n",
            "[27.9, 14.1, -6.7, 5.8, 14.3, 7.9, 13.0, -14.4, -12.4, -5.9, -7.2, 1.5, -6.6, -12.5, 5.2, 11.8, -14.1, 12.4, 13.7, 5.3, 14.6, -4.1, -13.5, 6.3, -7.4, -5.8, 1.8, -4.2, 11.6, 14.4, 5.1, -2.6, 12.7, -5.6, 6.2, 8.6, -9.4, -7.9, -28.3, -6.2, 4.2, -14.0, -13.0, 11.7, 7.3, 10.4, 2.6, 8.7, 5.0, 13.2]\n",
            "45 46\n",
            "[27.9, 14.1, -6.7, 5.8, 14.3, 7.9, 13.0, -14.4, -12.4, -5.9, -7.2, 1.5, -6.6, -12.5, 5.2, 11.8, -14.1, 12.4, 13.7, 5.3, 14.6, -4.1, -13.5, 6.3, -7.4, -5.8, 1.8, -4.2, 11.6, 14.4, 5.1, -2.6, 12.7, -5.6, 6.2, 8.6, -9.4, -7.9, -28.3, -6.2, 4.2, -14.0, -13.0, 11.7, 7.3, 10.4, 2.6, 8.7, 5.0, 13.2]\n",
            "48 49\n",
            "[27.9, 14.1, -6.7, 5.8, 14.3, 7.9, 13.0, -14.4, -12.4, -5.9, -7.2, 1.5, -6.6, -12.5, 5.2, 11.8, -14.1, 12.4, 13.7, 5.3, 14.6, -4.1, -13.5, 6.3, -7.4, -5.8, 1.8, -4.2, 11.6, 14.4, 5.1, -2.6, 12.7, -5.6, 6.2, 8.6, -9.4, -7.9, -28.3, -6.2, 4.2, -14.0, -13.0, 11.7, 7.3, 10.4, 2.6, 8.7, 5.0, 13.2]\n"
          ],
          "name": "stdout"
        },
        {
          "output_type": "execute_result",
          "data": {
            "text/plain": [
              "[27.9,\n",
              " 14.1,\n",
              " -6.7,\n",
              " 5.8,\n",
              " 14.3,\n",
              " 7.9,\n",
              " 13.0,\n",
              " -14.4,\n",
              " -12.4,\n",
              " -5.9,\n",
              " -7.2,\n",
              " 1.5,\n",
              " -6.6,\n",
              " -12.5,\n",
              " 5.2,\n",
              " 11.8,\n",
              " -14.1,\n",
              " 12.4,\n",
              " 13.7,\n",
              " 5.3,\n",
              " 14.6,\n",
              " -4.1,\n",
              " -13.5,\n",
              " 6.3,\n",
              " -7.4,\n",
              " -5.8,\n",
              " 1.8,\n",
              " -4.2,\n",
              " 11.6,\n",
              " 14.4,\n",
              " 5.1,\n",
              " -2.6,\n",
              " 12.7,\n",
              " -5.6,\n",
              " 6.2,\n",
              " 8.6,\n",
              " -9.4,\n",
              " -7.9,\n",
              " -28.3,\n",
              " -6.2,\n",
              " 4.2,\n",
              " -14.0,\n",
              " -13.0,\n",
              " 11.7,\n",
              " 7.3,\n",
              " 10.4,\n",
              " 2.6,\n",
              " 8.7,\n",
              " 5.0,\n",
              " 13.2]"
            ]
          },
          "metadata": {
            "tags": []
          },
          "execution_count": 261
        }
      ]
    },
    {
      "cell_type": "markdown",
      "metadata": {
        "id": "nBtGQXyw15Ti"
      },
      "source": [
        "wartosc wektora, porównywanie ograniczonej lb dysków, wybieranie które dyski porównujemy, animacja"
      ]
    }
  ]
}