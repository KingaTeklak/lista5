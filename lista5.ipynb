{
  "nbformat": 4,
  "nbformat_minor": 0,
  "metadata": {
    "colab": {
      "name": "lista5.ipynb",
      "provenance": [],
      "authorship_tag": "ABX9TyNXpxcQkupfdTC1CgrMWf9H",
      "include_colab_link": true
    },
    "kernelspec": {
      "name": "python3",
      "display_name": "Python 3"
    }
  },
  "cells": [
    {
      "cell_type": "markdown",
      "metadata": {
        "id": "view-in-github",
        "colab_type": "text"
      },
      "source": [
        "<a href=\"https://colab.research.google.com/github/KingaTeklak/lista5/blob/main/lista5.ipynb\" target=\"_parent\"><img src=\"https://colab.research.google.com/assets/colab-badge.svg\" alt=\"Open In Colab\"/></a>"
      ]
    },
    {
      "cell_type": "code",
      "metadata": {
        "id": "q9OBRYDZN4r0"
      },
      "source": [
        "from timeit import default_timer as timer"
      ],
      "execution_count": null,
      "outputs": []
    },
    {
      "cell_type": "markdown",
      "metadata": {
        "id": "LJ-eb_CJs6F9"
      },
      "source": [
        "# Zadanie 1\r\n",
        "Napisz funkcję, która przekształci kolor podany jako tryplet RGB do\r\n",
        "formatu HTML (tzn. (255,255,255) -->#FFFFFF). Podaj przykłady działania tej funkcji."
      ]
    },
    {
      "cell_type": "markdown",
      "metadata": {
        "id": "NclhrxAW0ev8"
      },
      "source": [
        "Kod koloru HTML jest to \"hexadecimal triplet\" reprezentowany przez kolory: czerwony, zielony, niebieski (#RRGGBB)."
      ]
    },
    {
      "cell_type": "code",
      "metadata": {
        "colab": {
          "base_uri": "https://localhost:8080/"
        },
        "id": "suhGE1aos0L2",
        "outputId": "ade3b8a8-0396-49f2-c31c-a9509c95e718"
      },
      "source": [
        "rgb = input(\"Podaj tryplet RGB ( np. 000, 000, 000), gdzie zakres to 0-255: \")\r\n"
      ],
      "execution_count": null,
      "outputs": [
        {
          "output_type": "stream",
          "text": [
            "Podaj tryplet RGB ( np. 000, 000, 000), gdzie zakres to 0-255: 111,111,111\n"
          ],
          "name": "stdout"
        }
      ]
    },
    {
      "cell_type": "code",
      "metadata": {
        "colab": {
          "base_uri": "https://localhost:8080/",
          "height": 36
        },
        "id": "HSEwhECwyheb",
        "outputId": "fb34c374-1923-491b-f78b-fcf5b3a5c496"
      },
      "source": [
        "def convert_RGB_to_HTML(tryplet):\r\n",
        "  r,g,b = eval(tryplet)\r\n",
        "  if 0<=r<=255 and 0<=g<=255 and 0<=b<=255:\r\n",
        "    hex_r = (\"00\" + hex(r)[2:].upper())[-2:]\r\n",
        "    \r\n",
        "    hex_g = (\"00\" + hex(g)[2:].upper())[-2:]\r\n",
        "    hex_b =(\"00\" +  hex(b)[2:].upper())[-2:]\r\n",
        "    return \"#\" + hex_r + hex_g + hex_b\r\n",
        "  else:\r\n",
        "    return \"Złe wartości\"\r\n",
        "convert_RGB_to_HTML(rgb)\r\n"
      ],
      "execution_count": null,
      "outputs": [
        {
          "output_type": "execute_result",
          "data": {
            "application/vnd.google.colaboratory.intrinsic+json": {
              "type": "string"
            },
            "text/plain": [
              "'#6F6F6F'"
            ]
          },
          "metadata": {
            "tags": []
          },
          "execution_count": 92
        }
      ]
    },
    {
      "cell_type": "markdown",
      "metadata": {
        "id": "YkngVpkL-tev"
      },
      "source": [
        "# Zadanie 2\r\n",
        "\r\n",
        "Napisz funkcję, która przekształci kolor z formatu HTML na tryplet\r\n",
        "RGB. Podaj przykłady działania tej funkcji"
      ]
    },
    {
      "cell_type": "code",
      "metadata": {
        "colab": {
          "base_uri": "https://localhost:8080/"
        },
        "id": "w54rZlJDCrDi",
        "outputId": "8aa402d6-e311-414e-e356-0be2679738f7"
      },
      "source": [
        "html = input(\"podaj color html tzn: #000000: \" )"
      ],
      "execution_count": null,
      "outputs": [
        {
          "output_type": "stream",
          "text": [
            "podaj color html tzn: #000000: #123456\n"
          ],
          "name": "stdout"
        }
      ]
    },
    {
      "cell_type": "markdown",
      "metadata": {
        "id": "OcF98Wo_GyLD"
      },
      "source": [
        "Funkcja, która sprawdza czy podany kolor jest poprawny:"
      ]
    },
    {
      "cell_type": "code",
      "metadata": {
        "id": "Xf02TaEEDLV3"
      },
      "source": [
        "def check_if_html(color_html):\r\n",
        "  if color_html[0] == \"#\" and len(color_html) ==7:\r\n",
        "    for i in color_html[1:]:\r\n",
        "      if i.isdigit():\r\n",
        "        continue\r\n",
        "      elif i.upper() in [\"A\", \"B\", \"C\", \"D\", \"F\"]:\r\n",
        "        continue\r\n",
        "      else:\r\n",
        "        return False\r\n",
        "    return True\r\n",
        "  return False\r\n"
      ],
      "execution_count": null,
      "outputs": []
    },
    {
      "cell_type": "markdown",
      "metadata": {
        "id": "1WP4Bqg1G64D"
      },
      "source": [
        "Funkcja, która zmiania zapis koloru o ile jest on podany poprawnie"
      ]
    },
    {
      "cell_type": "code",
      "metadata": {
        "colab": {
          "base_uri": "https://localhost:8080/"
        },
        "id": "_DXNVj6o-skh",
        "outputId": "41dbe307-70f7-4e97-be92-d2ba31e85f38"
      },
      "source": [
        "def convert_HTML_to_RGB(color_html):\r\n",
        "  if check_if_html(color_html):\r\n",
        "    r = color_html[1:3]\r\n",
        "    g = color_html[3:5]\r\n",
        "    b = color_html[5:]\r\n",
        "    return int(r, base=16), int(g, base=16), int(b, base=16)\r\n",
        "  else:\r\n",
        "    \"Błąd\"\r\n",
        "convert_HTML_to_RGB(convert_RGB_to_HTML(rgb))"
      ],
      "execution_count": null,
      "outputs": [
        {
          "output_type": "execute_result",
          "data": {
            "text/plain": [
              "(111, 111, 111)"
            ]
          },
          "metadata": {
            "tags": []
          },
          "execution_count": 95
        }
      ]
    },
    {
      "cell_type": "code",
      "metadata": {
        "colab": {
          "base_uri": "https://localhost:8080/"
        },
        "id": "_TKf-wWmGYim",
        "outputId": "c5e0d45e-e4ec-409b-971a-31f78a3b4138"
      },
      "source": [
        "convert_HTML_to_RGB(html)"
      ],
      "execution_count": null,
      "outputs": [
        {
          "output_type": "execute_result",
          "data": {
            "text/plain": [
              "(18, 52, 86)"
            ]
          },
          "metadata": {
            "tags": []
          },
          "execution_count": 96
        }
      ]
    },
    {
      "cell_type": "markdown",
      "metadata": {
        "id": "j-n7WR1VHaeU"
      },
      "source": [
        "# Zadanie 3\r\n",
        "Napisz funkcję rekurencyjną, która dla podanego n wyliczy n pierwszych wyrazów ciągu Fibonacciego."
      ]
    },
    {
      "cell_type": "code",
      "metadata": {
        "colab": {
          "base_uri": "https://localhost:8080/"
        },
        "id": "JD4EJqq5Hhzy",
        "outputId": "0b2cf850-824c-4734-e90a-59e1f31ee7e0"
      },
      "source": [
        "nums = {}\r\n",
        "\r\n",
        "def fib(n):\r\n",
        "    \r\n",
        "    if n<= 2:\r\n",
        "        return 1\r\n",
        "    if n in nums:\r\n",
        "        return nums[n]\r\n",
        "    else:\r\n",
        "        num = fastfib(n-1) + fastfib(n-2)\r\n",
        "        nums[n] = num\r\n",
        "        return num\r\n",
        "fib(10)"
      ],
      "execution_count": null,
      "outputs": [
        {
          "output_type": "execute_result",
          "data": {
            "text/plain": [
              "55"
            ]
          },
          "metadata": {
            "tags": []
          },
          "execution_count": 117
        }
      ]
    },
    {
      "cell_type": "code",
      "metadata": {
        "colab": {
          "base_uri": "https://localhost:8080/"
        },
        "id": "jlN5fExXJDQ9",
        "outputId": "421ded2f-a5f0-4a08-fb60-5666a37eb411"
      },
      "source": [
        "def fib_all_nums(n):\r\n",
        "  for i in range(1,n+1):\r\n",
        "    print(i, fib(i))\r\n",
        "fib_all_nums(10)"
      ],
      "execution_count": null,
      "outputs": [
        {
          "output_type": "stream",
          "text": [
            "1 1\n",
            "2 1\n",
            "3 2\n",
            "4 3\n",
            "5 5\n",
            "6 8\n",
            "7 13\n",
            "8 21\n",
            "9 34\n",
            "10 55\n"
          ],
          "name": "stdout"
        }
      ]
    },
    {
      "cell_type": "markdown",
      "metadata": {
        "id": "rshzrNNsLALO"
      },
      "source": [
        "# Zadanie 4\r\n",
        "Przepisz powyższą funkcję na wersję iteracyjną. Wymyśl sposób na porównanie czasu działania obu funkcji i sprawdź, która metoda jest szybsza\r\n",
        "dla n = 100."
      ]
    },
    {
      "cell_type": "code",
      "metadata": {
        "id": "tgLtvsrcLIHR"
      },
      "source": [
        "def fib_iter(n):\r\n",
        "  a,b = 0,1\r\n",
        "  for i in range(n):\r\n",
        "    a,b = b, a+b\r\n",
        "  return a"
      ],
      "execution_count": null,
      "outputs": []
    },
    {
      "cell_type": "markdown",
      "metadata": {
        "id": "jRk-aNqaNODi"
      },
      "source": [
        "pierwsze n wyrazów:"
      ]
    },
    {
      "cell_type": "code",
      "metadata": {
        "colab": {
          "base_uri": "https://localhost:8080/"
        },
        "id": "bWgPU_j_M5HA",
        "outputId": "4a0d19c4-dc7b-47e0-bfc5-858e69f96a57"
      },
      "source": [
        "def fib_iter_all_nums(n):\r\n",
        "  for i in range(1,n+1):\r\n",
        "    print(i, fib_iter(i))\r\n",
        "fib_all_nums(10)"
      ],
      "execution_count": null,
      "outputs": [
        {
          "output_type": "stream",
          "text": [
            "1 1\n",
            "2 1\n",
            "3 2\n",
            "4 3\n",
            "5 5\n",
            "6 8\n",
            "7 13\n",
            "8 21\n",
            "9 34\n",
            "10 55\n"
          ],
          "name": "stdout"
        }
      ]
    },
    {
      "cell_type": "markdown",
      "metadata": {
        "id": "AF5PbjxyN9w2"
      },
      "source": [
        "# Zadanie 3 i 4 CZAS"
      ]
    },
    {
      "cell_type": "code",
      "metadata": {
        "id": "bx7rUIxHSlvO"
      },
      "source": [
        "n = 100"
      ],
      "execution_count": null,
      "outputs": []
    },
    {
      "cell_type": "markdown",
      "metadata": {
        "id": "XSWwM6rSSzvx"
      },
      "source": [
        "mierzenia czasów"
      ]
    },
    {
      "cell_type": "code",
      "metadata": {
        "id": "HB50zKK0QBfC"
      },
      "source": [
        "start = timer()\r\n",
        "fib(n)\r\n",
        "end = timer()\r\n",
        "czas_rekur = end-start"
      ],
      "execution_count": null,
      "outputs": []
    },
    {
      "cell_type": "code",
      "metadata": {
        "id": "fNrj5HOOQarV"
      },
      "source": [
        "start = timer()\r\n",
        "fib_iter(n) \r\n",
        "czas_iter = end - start"
      ],
      "execution_count": null,
      "outputs": []
    },
    {
      "cell_type": "markdown",
      "metadata": {
        "id": "ZwJgx7woSxVp"
      },
      "source": [
        "porówanie czasów"
      ]
    },
    {
      "cell_type": "code",
      "metadata": {
        "colab": {
          "base_uri": "https://localhost:8080/"
        },
        "id": "pJmxKJvpRYY7",
        "outputId": "4a7a0b26-fc0e-4b2b-ade3-88bfdd8eeebf"
      },
      "source": [
        "def time_compare(a=czas_rekur,b=czas_iter):\r\n",
        "  if a<b:\r\n",
        "    print(\"metoda rekurencyjna jest szybsza o: \")\r\n",
        "    return b-a\r\n",
        "  elif a>b:\r\n",
        "    print(\"Metoda iteracyja jest szybsza. Różnica w sekundach to: \")\r\n",
        "    return a-b\r\n",
        "  else:\r\n",
        "    return \"metoda nie ma znaczdenia\"\r\n",
        "time_compare()"
      ],
      "execution_count": null,
      "outputs": [
        {
          "output_type": "stream",
          "text": [
            "Metoda iteracyja jest szybsza. Różnica w sekundach to: \n"
          ],
          "name": "stdout"
        },
        {
          "output_type": "execute_result",
          "data": {
            "text/plain": [
              "0.9084261230000266"
            ]
          },
          "metadata": {
            "tags": []
          },
          "execution_count": 145
        }
      ]
    },
    {
      "cell_type": "markdown",
      "metadata": {
        "id": "bEsFgd2bTAmj"
      },
      "source": [
        "# Zadanie 5\r\n",
        "Napisz funkcję, która sprawdzi, czy słowo podane jako argument jest\r\n",
        "palindromem. Zaprezentuj przykłady działania tej funkcji."
      ]
    },
    {
      "cell_type": "code",
      "metadata": {
        "colab": {
          "base_uri": "https://localhost:8080/"
        },
        "id": "U079jmJaTDLC",
        "outputId": "887f4438-9735-46cb-e6c9-0a04c20fe1c7"
      },
      "source": [
        "def check_if_palindrom(world):\r\n",
        "  for i in range(int(len(world)/2)+1):\r\n",
        "    if world[i] == world[-(i+1)]:\r\n",
        "      continue\r\n",
        "    else:\r\n",
        "      return False\r\n",
        "  return True\r\n",
        "check_if_palindrom(\".a l.l a.\")"
      ],
      "execution_count": null,
      "outputs": [
        {
          "output_type": "execute_result",
          "data": {
            "text/plain": [
              "True"
            ]
          },
          "metadata": {
            "tags": []
          },
          "execution_count": 161
        }
      ]
    },
    {
      "cell_type": "markdown",
      "metadata": {
        "id": "KapFXx6RVZyc"
      },
      "source": [
        "# Zadanie 6\r\n",
        "Napisz funkcję, która zwróci wartość True, jeśli lista podana jako argument jest posortowana, lub wartość False w przeciwnym przypadku"
      ]
    },
    {
      "cell_type": "code",
      "metadata": {
        "colab": {
          "base_uri": "https://localhost:8080/"
        },
        "id": "XvM9ZlAsVikA",
        "outputId": "fcb3f1b2-7339-4755-9b74-7be1f5dfb911"
      },
      "source": [
        "def check_if_sorted(n):\r\n",
        "  if n:\r\n",
        "    for i in range(1,len(n)):\r\n",
        "      if str(n[i-1]) <= str(n[1]):\r\n",
        "        continue\r\n",
        "      else:\r\n",
        "        return False\r\n",
        "    return True\r\n",
        "  \r\n",
        "  return True\r\n",
        "check_if_sorted([\"a\",\"b\",1,2, \"#\"])"
      ],
      "execution_count": null,
      "outputs": [
        {
          "output_type": "execute_result",
          "data": {
            "text/plain": [
              "True"
            ]
          },
          "metadata": {
            "tags": []
          },
          "execution_count": 185
        }
      ]
    },
    {
      "cell_type": "code",
      "metadata": {
        "colab": {
          "base_uri": "https://localhost:8080/"
        },
        "id": "m8p60pBiW0sz",
        "outputId": "701bebf2-d6a6-4ba5-fe31-fc1bbd4208cc"
      },
      "source": [
        "check_if_sorted([\"a\",3,4,\"b\"])"
      ],
      "execution_count": null,
      "outputs": [
        {
          "output_type": "execute_result",
          "data": {
            "text/plain": [
              "False"
            ]
          },
          "metadata": {
            "tags": []
          },
          "execution_count": 180
        }
      ]
    },
    {
      "cell_type": "code",
      "metadata": {
        "colab": {
          "base_uri": "https://localhost:8080/"
        },
        "id": "XuZP89lWW3YI",
        "outputId": "e817bf9f-66b3-4a91-84f1-19a009f11026"
      },
      "source": [
        "check_if_sorted([])"
      ],
      "execution_count": null,
      "outputs": [
        {
          "output_type": "execute_result",
          "data": {
            "text/plain": [
              "True"
            ]
          },
          "metadata": {
            "tags": []
          },
          "execution_count": 183
        }
      ]
    },
    {
      "cell_type": "markdown",
      "metadata": {
        "id": "YA1boYbSX-m3"
      },
      "source": [
        "# Zadanie 7\r\n",
        "Napisz funkcję, która sprawdzi, czy podane jako argumenty słowa są\r\n",
        "anagramami."
      ]
    },
    {
      "cell_type": "markdown",
      "metadata": {
        "id": "7Y47p-k6ZhGG"
      },
      "source": [
        ""
      ]
    },
    {
      "cell_type": "code",
      "metadata": {
        "colab": {
          "base_uri": "https://localhost:8080/"
        },
        "id": "GtGVHbkKYRQq",
        "outputId": "7f4c2955-b378-4f5b-b076-92d1461de78b"
      },
      "source": [
        "def check_if_anagram(word1, word2):\r\n",
        "  if len(word1) != len(word2):\r\n",
        "    return False\r\n",
        "  word1, word2 = word1.upper(), word2.upper()\r\n",
        "  for i in word1:\r\n",
        "    if i in word2:\r\n",
        "      word2 = word2.replace(i, '',1)\r\n",
        "    else:\r\n",
        "      return False\r\n",
        "  return True\r\n",
        "check_if_anagram(\"kiinga\", \"Aginik\")\r\n",
        "\r\n",
        "\r\n",
        "\r\n"
      ],
      "execution_count": null,
      "outputs": [
        {
          "output_type": "execute_result",
          "data": {
            "text/plain": [
              "True"
            ]
          },
          "metadata": {
            "tags": []
          },
          "execution_count": 194
        }
      ]
    },
    {
      "cell_type": "markdown",
      "metadata": {
        "id": "XzpFgTbLaYmb"
      },
      "source": [
        "z sorted()"
      ]
    },
    {
      "cell_type": "code",
      "metadata": {
        "colab": {
          "base_uri": "https://localhost:8080/"
        },
        "id": "ba_B0lbqZ5QU",
        "outputId": "55050396-dc8c-4409-b856-9f50e2a2349d"
      },
      "source": [
        "def check_if_anagram(word1, word2):\r\n",
        "  if len(word1) != len(word2):\r\n",
        "    return False\r\n",
        "\r\n",
        "  return sorted(word1) == sorted(word2)\r\n",
        "check_if_anagram(\"domek\", \"domke\")\r\n"
      ],
      "execution_count": null,
      "outputs": [
        {
          "output_type": "execute_result",
          "data": {
            "text/plain": [
              "True"
            ]
          },
          "metadata": {
            "tags": []
          },
          "execution_count": 190
        }
      ]
    }
  ]
}