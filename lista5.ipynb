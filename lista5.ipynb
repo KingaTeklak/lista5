{
  "nbformat": 4,
  "nbformat_minor": 0,
  "metadata": {
    "colab": {
      "name": "lista5.ipynb",
      "provenance": [],
      "collapsed_sections": [],
      "authorship_tag": "ABX9TyNhHIrAwjB/g0/q9NDaw8lw",
      "include_colab_link": true
    },
    "kernelspec": {
      "name": "python3",
      "display_name": "Python 3"
    }
  },
  "cells": [
    {
      "cell_type": "markdown",
      "metadata": {
        "id": "view-in-github",
        "colab_type": "text"
      },
      "source": [
        "<a href=\"https://colab.research.google.com/github/KingaTeklak/lista5/blob/main/lista5.ipynb\" target=\"_parent\"><img src=\"https://colab.research.google.com/assets/colab-badge.svg\" alt=\"Open In Colab\"/></a>"
      ]
    },
    {
      "cell_type": "code",
      "metadata": {
        "id": "q9OBRYDZN4r0"
      },
      "source": [
        "from timeit import default_timer as timer"
      ],
      "execution_count": null,
      "outputs": []
    },
    {
      "cell_type": "markdown",
      "metadata": {
        "id": "LJ-eb_CJs6F9"
      },
      "source": [
        "# Zadanie 1\r\n",
        "Napisz funkcję, która przekształci kolor podany jako tryplet RGB do\r\n",
        "formatu HTML (tzn. (255,255,255) -->#FFFFFF). Podaj przykłady działania tej funkcji."
      ]
    },
    {
      "cell_type": "markdown",
      "metadata": {
        "id": "NclhrxAW0ev8"
      },
      "source": [
        "Kod koloru HTML jest to \"hexadecimal triplet\" reprezentowany przez kolory: czerwony, zielony, niebieski (#RRGGBB)."
      ]
    },
    {
      "cell_type": "code",
      "metadata": {
        "colab": {
          "base_uri": "https://localhost:8080/"
        },
        "id": "suhGE1aos0L2",
        "outputId": "ad9fd5d7-ff9a-4c36-9754-2a9070e43278"
      },
      "source": [
        "rgb = input(\"Podaj tryplet RGB ( np. 000, 000, 000), gdzie zakres to 0-255: \")\r\n"
      ],
      "execution_count": null,
      "outputs": [
        {
          "output_type": "stream",
          "text": [
            "Podaj tryplet RGB ( np. 000, 000, 000), gdzie zakres to 0-255: 111,111,111\n"
          ],
          "name": "stdout"
        }
      ]
    },
    {
      "cell_type": "code",
      "metadata": {
        "colab": {
          "base_uri": "https://localhost:8080/",
          "height": 36
        },
        "id": "HSEwhECwyheb",
        "outputId": "1d256787-abd2-45ec-d6b2-cd919e9f2d31"
      },
      "source": [
        "def convert_RGB_to_HTML(tryplet):\r\n",
        "  r,g,b = eval(tryplet)\r\n",
        "  if 0<=r<=255 and 0<=g<=255 and 0<=b<=255:\r\n",
        "    hex_r = (\"00\" + hex(r)[2:].upper())[-2:]\r\n",
        "    \r\n",
        "    hex_g = (\"00\" + hex(g)[2:].upper())[-2:]\r\n",
        "    hex_b =(\"00\" +  hex(b)[2:].upper())[-2:]\r\n",
        "    return \"#\" + hex_r + hex_g + hex_b\r\n",
        "  else:\r\n",
        "    return \"Złe wartości\"\r\n",
        "convert_RGB_to_HTML(rgb)\r\n"
      ],
      "execution_count": null,
      "outputs": [
        {
          "output_type": "execute_result",
          "data": {
            "application/vnd.google.colaboratory.intrinsic+json": {
              "type": "string"
            },
            "text/plain": [
              "'#6F6F6F'"
            ]
          },
          "metadata": {
            "tags": []
          },
          "execution_count": 3
        }
      ]
    },
    {
      "cell_type": "markdown",
      "metadata": {
        "id": "YkngVpkL-tev"
      },
      "source": [
        "# Zadanie 2\r\n",
        "\r\n",
        "Napisz funkcję, która przekształci kolor z formatu HTML na tryplet\r\n",
        "RGB. Podaj przykłady działania tej funkcji"
      ]
    },
    {
      "cell_type": "code",
      "metadata": {
        "colab": {
          "base_uri": "https://localhost:8080/"
        },
        "id": "w54rZlJDCrDi",
        "outputId": "1f954b1e-c98d-4b20-c7b2-5978cf0c5151"
      },
      "source": [
        "html = input(\"podaj color html tzn: #000000: \" )"
      ],
      "execution_count": null,
      "outputs": [
        {
          "output_type": "stream",
          "text": [
            "podaj color html tzn: #000000: #5655ff\n"
          ],
          "name": "stdout"
        }
      ]
    },
    {
      "cell_type": "markdown",
      "metadata": {
        "id": "OcF98Wo_GyLD"
      },
      "source": [
        "Funkcja, która sprawdza czy podany kolor jest poprawny:"
      ]
    },
    {
      "cell_type": "markdown",
      "metadata": {
        "id": "94eKgge31aqy"
      },
      "source": [
        "Poprawki: Dopisałam \"E\""
      ]
    },
    {
      "cell_type": "code",
      "metadata": {
        "id": "Xf02TaEEDLV3"
      },
      "source": [
        "def check_if_html(color_html):\r\n",
        "  if color_html[0] == \"#\" and len(color_html) ==7:\r\n",
        "    for i in color_html[1:]:\r\n",
        "      if i.isdigit():\r\n",
        "        continue\r\n",
        "      elif i.upper() in [\"A\", \"B\", \"C\", \"D\", \"E\", \"F\"]:\r\n",
        "        continue\r\n",
        "      else:\r\n",
        "        return False\r\n",
        "    return True\r\n",
        "  return False\r\n"
      ],
      "execution_count": null,
      "outputs": []
    },
    {
      "cell_type": "markdown",
      "metadata": {
        "id": "1WP4Bqg1G64D"
      },
      "source": [
        "Funkcja, która zmiania zapis koloru o ile jest on podany poprawnie"
      ]
    },
    {
      "cell_type": "code",
      "metadata": {
        "colab": {
          "base_uri": "https://localhost:8080/"
        },
        "id": "_DXNVj6o-skh",
        "outputId": "ebbad7c7-d73c-443a-f870-31ea5d0d3f06"
      },
      "source": [
        "def convert_HTML_to_RGB(color_html):\r\n",
        "  if check_if_html(color_html):\r\n",
        "    r = color_html[1:3]\r\n",
        "    g = color_html[3:5]\r\n",
        "    b = color_html[5:]\r\n",
        "    return int(r, base=16), int(g, base=16), int(b, base=16)\r\n",
        "  else:\r\n",
        "    \"Błąd\"\r\n",
        "convert_HTML_to_RGB(convert_RGB_to_HTML(rgb))"
      ],
      "execution_count": null,
      "outputs": [
        {
          "output_type": "execute_result",
          "data": {
            "text/plain": [
              "(111, 111, 111)"
            ]
          },
          "metadata": {
            "tags": []
          },
          "execution_count": 6
        }
      ]
    },
    {
      "cell_type": "code",
      "metadata": {
        "colab": {
          "base_uri": "https://localhost:8080/"
        },
        "id": "_TKf-wWmGYim",
        "outputId": "6b0b8cbb-3924-4585-9d85-0366270bcd44"
      },
      "source": [
        "convert_HTML_to_RGB(html)"
      ],
      "execution_count": null,
      "outputs": [
        {
          "output_type": "execute_result",
          "data": {
            "text/plain": [
              "(86, 85, 255)"
            ]
          },
          "metadata": {
            "tags": []
          },
          "execution_count": 7
        }
      ]
    },
    {
      "cell_type": "markdown",
      "metadata": {
        "id": "j-n7WR1VHaeU"
      },
      "source": [
        "# Zadanie 3\r\n",
        "Napisz funkcję rekurencyjną, która dla podanego n wyliczy n pierwszych wyrazów ciągu Fibonacciego."
      ]
    },
    {
      "cell_type": "markdown",
      "metadata": {
        "id": "B0d2iEv6z3c-"
      },
      "source": [
        "poprawki: z pół rekurencji na całą"
      ]
    },
    {
      "cell_type": "code",
      "metadata": {
        "id": "JD4EJqq5Hhzy",
        "colab": {
          "base_uri": "https://localhost:8080/"
        },
        "outputId": "824415e0-a3e7-4d1f-b7da-8a66a6807965"
      },
      "source": [
        "\r\n",
        "def fib(n):\r\n",
        "    \r\n",
        "    if n<= 2:\r\n",
        "        return 1\r\n",
        "    else:\r\n",
        "      return  fib(n-1) + fib(n-2)\r\n",
        "\r\n",
        "fib(10)"
      ],
      "execution_count": null,
      "outputs": [
        {
          "output_type": "execute_result",
          "data": {
            "text/plain": [
              "55"
            ]
          },
          "metadata": {
            "tags": []
          },
          "execution_count": 21
        }
      ]
    },
    {
      "cell_type": "code",
      "metadata": {
        "id": "jlN5fExXJDQ9",
        "colab": {
          "base_uri": "https://localhost:8080/"
        },
        "outputId": "90ae1ca1-eb4d-4c19-eef0-ce200c96edbc"
      },
      "source": [
        "def fib_all_nums(n):\r\n",
        "  for i in range(1,n+1):\r\n",
        "    print(i, fib(i))\r\n",
        "fib_all_nums(10)"
      ],
      "execution_count": null,
      "outputs": [
        {
          "output_type": "stream",
          "text": [
            "1 1\n",
            "2 1\n",
            "3 2\n",
            "4 3\n",
            "5 5\n",
            "6 8\n",
            "7 13\n",
            "8 21\n",
            "9 34\n",
            "10 55\n"
          ],
          "name": "stdout"
        }
      ]
    },
    {
      "cell_type": "markdown",
      "metadata": {
        "id": "rshzrNNsLALO"
      },
      "source": [
        "# Zadanie 4\r\n",
        "Przepisz powyższą funkcję na wersję iteracyjną. Wymyśl sposób na porównanie czasu działania obu funkcji i sprawdź, która metoda jest szybsza\r\n",
        "dla n = 100."
      ]
    },
    {
      "cell_type": "code",
      "metadata": {
        "id": "tgLtvsrcLIHR"
      },
      "source": [
        "def fib_iter(n):\r\n",
        "  a,b = 0,1\r\n",
        "  for i in range(n):\r\n",
        "    a,b = b, a+b\r\n",
        "  return a"
      ],
      "execution_count": null,
      "outputs": []
    },
    {
      "cell_type": "markdown",
      "metadata": {
        "id": "jRk-aNqaNODi"
      },
      "source": [
        "pierwsze n wyrazów:"
      ]
    },
    {
      "cell_type": "code",
      "metadata": {
        "colab": {
          "base_uri": "https://localhost:8080/"
        },
        "id": "bWgPU_j_M5HA",
        "outputId": "a8da96b8-50bb-4f7f-fa5c-daaa6315b56b"
      },
      "source": [
        "def fib_iter_all_nums(n):\r\n",
        "  for i in range(1,n+1):\r\n",
        "    print(i, fib_iter(i))\r\n",
        "fib_all_nums(10)"
      ],
      "execution_count": null,
      "outputs": [
        {
          "output_type": "stream",
          "text": [
            "1 1\n",
            "2 1\n",
            "3 2\n",
            "4 3\n",
            "5 5\n",
            "6 8\n",
            "7 13\n",
            "8 21\n",
            "9 34\n",
            "10 55\n"
          ],
          "name": "stdout"
        }
      ]
    },
    {
      "cell_type": "markdown",
      "metadata": {
        "id": "AF5PbjxyN9w2"
      },
      "source": [
        "# Zadanie 3 i 4 CZAS"
      ]
    },
    {
      "cell_type": "markdown",
      "metadata": {
        "id": "dbfnEY8y7gP1"
      },
      "source": [
        "Po usunięciu z rekurecji tej części przyśpieszjącej nie jestem w stanie sprawdzić różnicy dla n= 100, ponieważ komputer się zacina. Przy n=40 widac już znaczą różnice w czasie."
      ]
    },
    {
      "cell_type": "code",
      "metadata": {
        "id": "bx7rUIxHSlvO"
      },
      "source": [
        "n = 40"
      ],
      "execution_count": null,
      "outputs": []
    },
    {
      "cell_type": "markdown",
      "metadata": {
        "id": "XSWwM6rSSzvx"
      },
      "source": [
        "mierzenia czasów"
      ]
    },
    {
      "cell_type": "code",
      "metadata": {
        "id": "HB50zKK0QBfC"
      },
      "source": [
        "start = timer()\r\n",
        "fib(n)\r\n",
        "end = timer()\r\n",
        "czas_rekur = end-start"
      ],
      "execution_count": null,
      "outputs": []
    },
    {
      "cell_type": "code",
      "metadata": {
        "id": "fNrj5HOOQarV"
      },
      "source": [
        "start = timer()\r\n",
        "fib_iter(n) \r\n",
        "czas_iter = end - start"
      ],
      "execution_count": null,
      "outputs": []
    },
    {
      "cell_type": "markdown",
      "metadata": {
        "id": "ZwJgx7woSxVp"
      },
      "source": [
        "porówanie czasów"
      ]
    },
    {
      "cell_type": "code",
      "metadata": {
        "id": "pJmxKJvpRYY7",
        "colab": {
          "base_uri": "https://localhost:8080/"
        },
        "outputId": "5b399ce5-ae74-4281-ac38-f546028c11df"
      },
      "source": [
        "def time_compare(a=czas_rekur,b=czas_iter):\r\n",
        "  if a<b:\r\n",
        "    print(\"metoda rekurencyjna jest szybsza o: \")\r\n",
        "    return b-a\r\n",
        "  elif a>b:\r\n",
        "    print(\"Metoda iteracyja jest szybsza. Różnica w sekundach to: \")\r\n",
        "    return a-b\r\n",
        "  else:\r\n",
        "    return \"metoda nie ma znaczdenia\"\r\n",
        "time_compare()"
      ],
      "execution_count": null,
      "outputs": [
        {
          "output_type": "stream",
          "text": [
            "Metoda iteracyja jest szybsza. Różnica w sekundach to: \n"
          ],
          "name": "stdout"
        },
        {
          "output_type": "execute_result",
          "data": {
            "text/plain": [
              "34.8683693129999"
            ]
          },
          "metadata": {
            "tags": []
          },
          "execution_count": 37
        }
      ]
    },
    {
      "cell_type": "markdown",
      "metadata": {
        "id": "bEsFgd2bTAmj"
      },
      "source": [
        "# Zadanie 5\r\n",
        "Napisz funkcję, która sprawdzi, czy słowo podane jako argument jest\r\n",
        "palindromem. Zaprezentuj przykłady działania tej funkcji."
      ]
    },
    {
      "cell_type": "code",
      "metadata": {
        "colab": {
          "base_uri": "https://localhost:8080/"
        },
        "id": "U079jmJaTDLC",
        "outputId": "f5b21670-7734-4711-d36f-21cef57fad33"
      },
      "source": [
        "def check_if_palindrom(world):\r\n",
        "  for i in range(int(len(world)/2)):\r\n",
        "    if world[i] == world[-(i+1)]:\r\n",
        "      continue\r\n",
        "    else:\r\n",
        "      return False\r\n",
        "  return True\r\n",
        "check_if_palindrom(\".a l..l a.\")"
      ],
      "execution_count": null,
      "outputs": [
        {
          "output_type": "execute_result",
          "data": {
            "text/plain": [
              "True"
            ]
          },
          "metadata": {
            "tags": []
          },
          "execution_count": 40
        }
      ]
    },
    {
      "cell_type": "markdown",
      "metadata": {
        "id": "KapFXx6RVZyc"
      },
      "source": [
        "# Zadanie 6\r\n",
        "Napisz funkcję, która zwróci wartość True, jeśli lista podana jako argument jest posortowana, lub wartość False w przeciwnym przypadku.\r\n",
        "POPRAWKA:\r\n",
        "uwzględniam i sortowanie malejące i rosnące."
      ]
    },
    {
      "cell_type": "code",
      "metadata": {
        "id": "noLumImG-RM1"
      },
      "source": [
        "def monotonicznosc(n):\r\n",
        "  if len(n) > 2:\r\n",
        "    for i in range(1,len(n)):\r\n",
        "      if n[0] == n[i]:\r\n",
        "        continue\r\n",
        "      elif str(n[0]) > str(n[i]):\r\n",
        "          return -1\r\n",
        "      return 1\r\n"
      ],
      "execution_count": null,
      "outputs": []
    },
    {
      "cell_type": "code",
      "metadata": {
        "colab": {
          "base_uri": "https://localhost:8080/"
        },
        "id": "XvM9ZlAsVikA",
        "outputId": "7d7b366e-d35a-40f2-9653-de9c4af1c08a"
      },
      "source": [
        "def check_if_sorted(n):\r\n",
        "  if len(n)>2:\r\n",
        "    if monotonicznosc(n) == 1:\r\n",
        "      for i in range(1,len(n)):\r\n",
        "        if str(n[i-1]) <= str(n[i]):\r\n",
        "          continue\r\n",
        "        else:\r\n",
        "          return False\r\n",
        "      return True\r\n",
        "    elif monotonicznosc(n) == -1:\r\n",
        "        for i in range(1,len(n)):\r\n",
        "          if str(n[i-1]) >= str(n[i]):\r\n",
        "            continue\r\n",
        "          else:\r\n",
        "            return False\r\n",
        "        return True\r\n",
        "  \r\n",
        "  return True\r\n",
        "check_if_sorted([\"#\",0,0,0,1,\"a\",\"b\"])"
      ],
      "execution_count": null,
      "outputs": [
        {
          "output_type": "execute_result",
          "data": {
            "text/plain": [
              "True"
            ]
          },
          "metadata": {
            "tags": []
          },
          "execution_count": 114
        }
      ]
    },
    {
      "cell_type": "code",
      "metadata": {
        "colab": {
          "base_uri": "https://localhost:8080/"
        },
        "id": "m8p60pBiW0sz",
        "outputId": "b56ac7de-ef3a-4da3-8a5a-66d92320dbac"
      },
      "source": [
        "check_if_sorted([\"z\",\"b\",\"a\",\"Z\",1,0,\"#\"])"
      ],
      "execution_count": null,
      "outputs": [
        {
          "output_type": "execute_result",
          "data": {
            "text/plain": [
              "True"
            ]
          },
          "metadata": {
            "tags": []
          },
          "execution_count": 115
        }
      ]
    },
    {
      "cell_type": "code",
      "metadata": {
        "colab": {
          "base_uri": "https://localhost:8080/"
        },
        "id": "XuZP89lWW3YI",
        "outputId": "cdbba0a1-f185-4f59-efc6-f7cc42bbd73c"
      },
      "source": [
        "check_if_sorted([1,1,1])"
      ],
      "execution_count": null,
      "outputs": [
        {
          "output_type": "execute_result",
          "data": {
            "text/plain": [
              "True"
            ]
          },
          "metadata": {
            "tags": []
          },
          "execution_count": 116
        }
      ]
    },
    {
      "cell_type": "code",
      "metadata": {
        "colab": {
          "base_uri": "https://localhost:8080/"
        },
        "id": "3tSpzypgGkdG",
        "outputId": "41b99a82-5d8c-4734-b3b3-f54f3719b51b"
      },
      "source": [
        "check_if_sorted([])"
      ],
      "execution_count": null,
      "outputs": [
        {
          "output_type": "execute_result",
          "data": {
            "text/plain": [
              "True"
            ]
          },
          "metadata": {
            "tags": []
          },
          "execution_count": 117
        }
      ]
    },
    {
      "cell_type": "markdown",
      "metadata": {
        "id": "YA1boYbSX-m3"
      },
      "source": [
        "# Zadanie 7\r\n",
        "Napisz funkcję, która sprawdzi, czy podane jako argumenty słowa są\r\n",
        "anagramami."
      ]
    },
    {
      "cell_type": "markdown",
      "metadata": {
        "id": "7Y47p-k6ZhGG"
      },
      "source": [
        ""
      ]
    },
    {
      "cell_type": "code",
      "metadata": {
        "colab": {
          "base_uri": "https://localhost:8080/"
        },
        "id": "GtGVHbkKYRQq",
        "outputId": "dbd0ca75-8ac4-4c55-e30b-5ea954e2c4cc"
      },
      "source": [
        "def check_if_anagram(word1, word2):\r\n",
        "  if len(word1) != len(word2):\r\n",
        "    return False\r\n",
        "  word1, word2 = word1.upper(), word2.upper()\r\n",
        "  for i in word1:\r\n",
        "    if i in word2:\r\n",
        "      word2 = word2.replace(i, '',1)\r\n",
        "    else:\r\n",
        "      return False\r\n",
        "  return True\r\n",
        "check_if_anagram(\"kiinga\", \"Aginik\")\r\n",
        "\r\n",
        "\r\n",
        "\r\n"
      ],
      "execution_count": null,
      "outputs": [
        {
          "output_type": "execute_result",
          "data": {
            "text/plain": [
              "True"
            ]
          },
          "metadata": {
            "tags": []
          },
          "execution_count": 118
        }
      ]
    },
    {
      "cell_type": "markdown",
      "metadata": {
        "id": "XzpFgTbLaYmb"
      },
      "source": [
        "z sorted()"
      ]
    },
    {
      "cell_type": "code",
      "metadata": {
        "colab": {
          "base_uri": "https://localhost:8080/"
        },
        "id": "ba_B0lbqZ5QU",
        "outputId": "04ea2d4c-0747-4a7a-b9c0-1b93ff723972"
      },
      "source": [
        "def check_if_anagram(word1, word2):\r\n",
        "  if len(word1) != len(word2):\r\n",
        "    return False\r\n",
        "\r\n",
        "  return sorted(word1) == sorted(word2)\r\n",
        "check_if_anagram(\"domek\", \"domke\")\r\n"
      ],
      "execution_count": null,
      "outputs": [
        {
          "output_type": "execute_result",
          "data": {
            "text/plain": [
              "True"
            ]
          },
          "metadata": {
            "tags": []
          },
          "execution_count": 119
        }
      ]
    }
  ]
}